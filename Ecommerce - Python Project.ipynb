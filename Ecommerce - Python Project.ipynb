{
 "cells": [
  {
   "cell_type": "markdown",
   "id": "bccc3bdd",
   "metadata": {},
   "source": [
    "<div style=\"background-color: #E8F5E9; padding: 20px; border-radius: 10px; text-align: center;\">\n",
    "    <h1 style=\"color: #004D40;\">🛍️ E-commerce Excellence: In-Depth Analysis of Olist Dataset 🛒</h1>\n",
    "</div>\n"
   ]
  },
  {
   "cell_type": "markdown",
   "id": "e762df7f",
   "metadata": {},
   "source": [
    " "
   ]
  },
  {
   "cell_type": "markdown",
   "id": "526e1fdc",
   "metadata": {},
   "source": [
    "### About dataset\n",
    "\n",
    "- The Olist eCommerce dataset is a collection of data from a Brazilian e-commerce company that connects small to medium-sized retailers with customers across the country. \n",
    "- It contains almost 1 lakh entries of customers with 30 columns. information like customer orders, order status, payment details, product information, customer location, and reviews."
   ]
  },
  {
   "cell_type": "markdown",
   "id": "b5bbafdc",
   "metadata": {},
   "source": [
    "### Objective"
   ]
  },
  {
   "cell_type": "markdown",
   "id": "ca68bd2a",
   "metadata": {},
   "source": [
    "- To identify order trends\n",
    "- Customer behaviour & regional analysis\n",
    "- Product performance evaluation\n",
    "- Delivery and logistics efficiency"
   ]
  },
  {
   "cell_type": "markdown",
   "id": "83364760",
   "metadata": {},
   "source": [
    "<div style=\"background-color: #E3F2FD; padding: 20px; border-radius: 10px;\">\n",
    "    <h1 id=\"imprt-datset\" style=\"color: #004D40; text-align: left; font-size: 1.5em;\">Importing dataset</h1>\n",
    "</div>\n"
   ]
  },
  {
   "cell_type": "code",
   "execution_count": 1,
   "id": "27e422ba",
   "metadata": {},
   "outputs": [],
   "source": [
    "import pandas as pd\n",
    "import numpy as np\n",
    "import seaborn as sns\n",
    "import matplotlib.pyplot as plt"
   ]
  },
  {
   "cell_type": "code",
   "execution_count": 2,
   "id": "0a44a5b8",
   "metadata": {},
   "outputs": [
    {
     "data": {
      "text/html": [
       "<div>\n",
       "<style scoped>\n",
       "    .dataframe tbody tr th:only-of-type {\n",
       "        vertical-align: middle;\n",
       "    }\n",
       "\n",
       "    .dataframe tbody tr th {\n",
       "        vertical-align: top;\n",
       "    }\n",
       "\n",
       "    .dataframe thead th {\n",
       "        text-align: right;\n",
       "    }\n",
       "</style>\n",
       "<table border=\"1\" class=\"dataframe\">\n",
       "  <thead>\n",
       "    <tr style=\"text-align: right;\">\n",
       "      <th></th>\n",
       "      <th>customer_unique_id</th>\n",
       "      <th>customer_zip_code</th>\n",
       "      <th>customer_city</th>\n",
       "      <th>customer_state</th>\n",
       "      <th>order_id</th>\n",
       "      <th>order_status</th>\n",
       "      <th>order_purchase_date</th>\n",
       "      <th>order_approved_date</th>\n",
       "      <th>shipping_limit_date</th>\n",
       "      <th>order_delivered_carrier_date</th>\n",
       "      <th>...</th>\n",
       "      <th>freight_value</th>\n",
       "      <th>product_category_name</th>\n",
       "      <th>seller_zip_code</th>\n",
       "      <th>seller_city</th>\n",
       "      <th>seller_state</th>\n",
       "      <th>Day</th>\n",
       "      <th>week</th>\n",
       "      <th>Year</th>\n",
       "      <th>Month</th>\n",
       "      <th>Quarter</th>\n",
       "    </tr>\n",
       "  </thead>\n",
       "  <tbody>\n",
       "    <tr>\n",
       "      <th>0</th>\n",
       "      <td>861eff4711a542e4b93843c6dd7febb0</td>\n",
       "      <td>14409</td>\n",
       "      <td>franca</td>\n",
       "      <td>SP</td>\n",
       "      <td>00e7ee1b050b8499577073aeb2a297a1</td>\n",
       "      <td>delivered</td>\n",
       "      <td>2017-05-16 15:05:35</td>\n",
       "      <td>2017-05-16 15:22:12</td>\n",
       "      <td>2017-05-22 15:22:12</td>\n",
       "      <td>2017-05-23 10:47:57</td>\n",
       "      <td>...</td>\n",
       "      <td>21.88</td>\n",
       "      <td>moveis_escritorio</td>\n",
       "      <td>8577.0</td>\n",
       "      <td>itaquaquecetuba</td>\n",
       "      <td>SP</td>\n",
       "      <td>Tue</td>\n",
       "      <td>Weekday</td>\n",
       "      <td>2017</td>\n",
       "      <td>May</td>\n",
       "      <td>2</td>\n",
       "    </tr>\n",
       "    <tr>\n",
       "      <th>1</th>\n",
       "      <td>acd02fc85cf6339f896c161af2b6abcd</td>\n",
       "      <td>96083</td>\n",
       "      <td>pelotas</td>\n",
       "      <td>RS</td>\n",
       "      <td>b1cc044d321053348a5e482ca7e6b2e3</td>\n",
       "      <td>delivered</td>\n",
       "      <td>2018-01-30 19:29:01</td>\n",
       "      <td>2018-01-30 19:54:04</td>\n",
       "      <td>2018-02-13 19:54:04</td>\n",
       "      <td>2018-02-09 13:08:10</td>\n",
       "      <td>...</td>\n",
       "      <td>38.59</td>\n",
       "      <td>moveis_escritorio</td>\n",
       "      <td>8577.0</td>\n",
       "      <td>itaquaquecetuba</td>\n",
       "      <td>SP</td>\n",
       "      <td>Tue</td>\n",
       "      <td>Weekday</td>\n",
       "      <td>2018</td>\n",
       "      <td>Jan</td>\n",
       "      <td>1</td>\n",
       "    </tr>\n",
       "    <tr>\n",
       "      <th>2</th>\n",
       "      <td>613259d64ba972e49dc25b019b7918c3</td>\n",
       "      <td>6414</td>\n",
       "      <td>barueri</td>\n",
       "      <td>SP</td>\n",
       "      <td>03afb3c10af52ddfa3c33b9881bf43f8</td>\n",
       "      <td>delivered</td>\n",
       "      <td>2017-12-07 16:41:50</td>\n",
       "      <td>2017-12-07 16:51:57</td>\n",
       "      <td>2017-12-19 16:51:57</td>\n",
       "      <td>2017-12-15 13:04:12</td>\n",
       "      <td>...</td>\n",
       "      <td>18.51</td>\n",
       "      <td>moveis_escritorio</td>\n",
       "      <td>8577.0</td>\n",
       "      <td>itaquaquecetuba</td>\n",
       "      <td>SP</td>\n",
       "      <td>Thu</td>\n",
       "      <td>Weekday</td>\n",
       "      <td>2017</td>\n",
       "      <td>Dec</td>\n",
       "      <td>4</td>\n",
       "    </tr>\n",
       "    <tr>\n",
       "      <th>3</th>\n",
       "      <td>236655441ae8dd4485fd328d918186fa</td>\n",
       "      <td>48020</td>\n",
       "      <td>alagoinhas</td>\n",
       "      <td>BA</td>\n",
       "      <td>01db310c16db46c62c3d4e0857990f32</td>\n",
       "      <td>delivered</td>\n",
       "      <td>2017-02-13 16:22:39</td>\n",
       "      <td>2017-02-15 02:43:18</td>\n",
       "      <td>2017-02-22 15:22:39</td>\n",
       "      <td>2017-02-21 08:34:01</td>\n",
       "      <td>...</td>\n",
       "      <td>21.29</td>\n",
       "      <td>moveis_escritorio</td>\n",
       "      <td>8577.0</td>\n",
       "      <td>itaquaquecetuba</td>\n",
       "      <td>SP</td>\n",
       "      <td>Mon</td>\n",
       "      <td>Weekday</td>\n",
       "      <td>2017</td>\n",
       "      <td>Feb</td>\n",
       "      <td>1</td>\n",
       "    </tr>\n",
       "    <tr>\n",
       "      <th>4</th>\n",
       "      <td>c666e59a2d3ced923880461526113d38</td>\n",
       "      <td>4247</td>\n",
       "      <td>sao paulo</td>\n",
       "      <td>SP</td>\n",
       "      <td>64a9f2b487f66506d463ca18152280e8</td>\n",
       "      <td>delivered</td>\n",
       "      <td>2018-02-24 08:45:01</td>\n",
       "      <td>2018-02-24 09:47:40</td>\n",
       "      <td>2018-03-09 09:47:40</td>\n",
       "      <td>2018-03-01 21:38:37</td>\n",
       "      <td>...</td>\n",
       "      <td>18.53</td>\n",
       "      <td>moveis_escritorio</td>\n",
       "      <td>8577.0</td>\n",
       "      <td>itaquaquecetuba</td>\n",
       "      <td>SP</td>\n",
       "      <td>Sat</td>\n",
       "      <td>Weekend</td>\n",
       "      <td>2018</td>\n",
       "      <td>Feb</td>\n",
       "      <td>1</td>\n",
       "    </tr>\n",
       "  </tbody>\n",
       "</table>\n",
       "<p>5 rows × 30 columns</p>\n",
       "</div>"
      ],
      "text/plain": [
       "                 customer_unique_id  customer_zip_code customer_city  \\\n",
       "0  861eff4711a542e4b93843c6dd7febb0              14409        franca   \n",
       "1  acd02fc85cf6339f896c161af2b6abcd              96083       pelotas   \n",
       "2  613259d64ba972e49dc25b019b7918c3               6414       barueri   \n",
       "3  236655441ae8dd4485fd328d918186fa              48020    alagoinhas   \n",
       "4  c666e59a2d3ced923880461526113d38               4247     sao paulo   \n",
       "\n",
       "  customer_state                          order_id order_status  \\\n",
       "0             SP  00e7ee1b050b8499577073aeb2a297a1    delivered   \n",
       "1             RS  b1cc044d321053348a5e482ca7e6b2e3    delivered   \n",
       "2             SP  03afb3c10af52ddfa3c33b9881bf43f8    delivered   \n",
       "3             BA  01db310c16db46c62c3d4e0857990f32    delivered   \n",
       "4             SP  64a9f2b487f66506d463ca18152280e8    delivered   \n",
       "\n",
       "  order_purchase_date order_approved_date shipping_limit_date  \\\n",
       "0 2017-05-16 15:05:35 2017-05-16 15:22:12 2017-05-22 15:22:12   \n",
       "1 2018-01-30 19:29:01 2018-01-30 19:54:04 2018-02-13 19:54:04   \n",
       "2 2017-12-07 16:41:50 2017-12-07 16:51:57 2017-12-19 16:51:57   \n",
       "3 2017-02-13 16:22:39 2017-02-15 02:43:18 2017-02-22 15:22:39   \n",
       "4 2018-02-24 08:45:01 2018-02-24 09:47:40 2018-03-09 09:47:40   \n",
       "\n",
       "  order_delivered_carrier_date  ... freight_value product_category_name  \\\n",
       "0          2017-05-23 10:47:57  ...         21.88     moveis_escritorio   \n",
       "1          2018-02-09 13:08:10  ...         38.59     moveis_escritorio   \n",
       "2          2017-12-15 13:04:12  ...         18.51     moveis_escritorio   \n",
       "3          2017-02-21 08:34:01  ...         21.29     moveis_escritorio   \n",
       "4          2018-03-01 21:38:37  ...         18.53     moveis_escritorio   \n",
       "\n",
       "  seller_zip_code      seller_city  seller_state  Day     week  Year Month  \\\n",
       "0          8577.0  itaquaquecetuba            SP  Tue  Weekday  2017   May   \n",
       "1          8577.0  itaquaquecetuba            SP  Tue  Weekday  2018   Jan   \n",
       "2          8577.0  itaquaquecetuba            SP  Thu  Weekday  2017   Dec   \n",
       "3          8577.0  itaquaquecetuba            SP  Mon  Weekday  2017   Feb   \n",
       "4          8577.0  itaquaquecetuba            SP  Sat  Weekend  2018   Feb   \n",
       "\n",
       "   Quarter  \n",
       "0        2  \n",
       "1        1  \n",
       "2        4  \n",
       "3        1  \n",
       "4        1  \n",
       "\n",
       "[5 rows x 30 columns]"
      ]
     },
     "execution_count": 2,
     "metadata": {},
     "output_type": "execute_result"
    }
   ],
   "source": [
    "df = pd.read_excel(\"C:/Users/pooja pawar/EDUTECH  - DATA  ANALYST COURSE/DATASET FOR PYTHON PROJECT/E-COMMERCE/FINAL DATA/Olist_Ecommerce_Data.xlsx\")\n",
    "df.head(5)"
   ]
  },
  {
   "cell_type": "markdown",
   "id": "28e9ced5",
   "metadata": {},
   "source": [
    " "
   ]
  },
  {
   "cell_type": "markdown",
   "id": "5620c9ff",
   "metadata": {},
   "source": [
    "<div style=\"background-color: #E3F2FD; padding: 20px; border-radius: 10px;\">\n",
    "    <h1 style=\"color: #004D40; text-align: left; font-size: 1.5em;\">Data overview</h1>\n",
    "</div>"
   ]
  },
  {
   "cell_type": "code",
   "execution_count": 3,
   "id": "780c0ed4",
   "metadata": {},
   "outputs": [
    {
     "name": "stdout",
     "output_type": "stream",
     "text": [
      "<class 'pandas.core.frame.DataFrame'>\n",
      "RangeIndex: 119143 entries, 0 to 119142\n",
      "Data columns (total 30 columns):\n",
      " #   Column                         Non-Null Count   Dtype         \n",
      "---  ------                         --------------   -----         \n",
      " 0   customer_unique_id             119143 non-null  object        \n",
      " 1   customer_zip_code              119143 non-null  int64         \n",
      " 2   customer_city                  119143 non-null  object        \n",
      " 3   customer_state                 119143 non-null  object        \n",
      " 4   order_id                       119143 non-null  object        \n",
      " 5   order_status                   119143 non-null  object        \n",
      " 6   order_purchase_date            119143 non-null  datetime64[ns]\n",
      " 7   order_approved_date            118966 non-null  datetime64[ns]\n",
      " 8   shipping_limit_date            118310 non-null  datetime64[ns]\n",
      " 9   order_delivered_carrier_date   117057 non-null  datetime64[ns]\n",
      " 10  order_delivered_customer_date  115722 non-null  datetime64[ns]\n",
      " 11  order_estimated_delivery_date  119143 non-null  datetime64[ns]\n",
      " 12  order_payment_type             119140 non-null  object        \n",
      " 13  payment_installments           119140 non-null  float64       \n",
      " 14  payment_value                  119140 non-null  float64       \n",
      " 15  review_score                   118146 non-null  float64       \n",
      " 16  order_item_id                  118310 non-null  float64       \n",
      " 17  product_id                     118310 non-null  object        \n",
      " 18  seller_id                      118310 non-null  object        \n",
      " 19  price                          118310 non-null  float64       \n",
      " 20  freight_value                  118310 non-null  float64       \n",
      " 21  product_category_name          116601 non-null  object        \n",
      " 22  seller_zip_code                118309 non-null  float64       \n",
      " 23  seller_city                    118309 non-null  object        \n",
      " 24  seller_state                   118309 non-null  object        \n",
      " 25  Day                            119143 non-null  object        \n",
      " 26  week                           119143 non-null  object        \n",
      " 27  Year                           119143 non-null  int64         \n",
      " 28  Month                          119143 non-null  object        \n",
      " 29  Quarter                        119143 non-null  int64         \n",
      "dtypes: datetime64[ns](6), float64(7), int64(3), object(14)\n",
      "memory usage: 27.3+ MB\n"
     ]
    }
   ],
   "source": [
    "df.info()"
   ]
  },
  {
   "cell_type": "code",
   "execution_count": 4,
   "id": "996dea29",
   "metadata": {},
   "outputs": [
    {
     "data": {
      "text/plain": [
       "Index(['customer_unique_id', 'customer_zip_code', 'customer_city',\n",
       "       'customer_state', 'order_id', 'order_status', 'order_purchase_date',\n",
       "       'order_approved_date', 'shipping_limit_date',\n",
       "       'order_delivered_carrier_date', 'order_delivered_customer_date',\n",
       "       'order_estimated_delivery_date', 'order_payment_type',\n",
       "       'payment_installments', 'payment_value', 'review_score',\n",
       "       'order_item_id', 'product_id', 'seller_id', 'price', 'freight_value',\n",
       "       'product_category_name', 'seller_zip_code', 'seller_city',\n",
       "       'seller_state', 'Day', 'week', 'Year', 'Month', 'Quarter'],\n",
       "      dtype='object')"
      ]
     },
     "execution_count": 4,
     "metadata": {},
     "output_type": "execute_result"
    }
   ],
   "source": [
    "df.columns"
   ]
  },
  {
   "cell_type": "markdown",
   "id": "68ec6f46",
   "metadata": {},
   "source": [
    " "
   ]
  },
  {
   "cell_type": "markdown",
   "id": "22d36bf6",
   "metadata": {},
   "source": [
    "<div style=\"background-color: #E3F2FD; padding: 20px; border-radius: 10px;\">\n",
    "    <h1 style=\"color: #004D40; text-align: left; font-size: 1.5em;\">Data cleaning</h1>\n",
    "</div>"
   ]
  },
  {
   "cell_type": "markdown",
   "id": "ad370f25",
   "metadata": {},
   "source": [
    "### 1) Remove Duplicates rows"
   ]
  },
  {
   "cell_type": "code",
   "execution_count": 5,
   "id": "4bc09ccf",
   "metadata": {},
   "outputs": [],
   "source": [
    "df = df.drop_duplicates()"
   ]
  },
  {
   "cell_type": "code",
   "execution_count": 6,
   "id": "81e4ea33",
   "metadata": {},
   "outputs": [
    {
     "data": {
      "text/plain": [
       "(118018, 30)"
      ]
     },
     "execution_count": 6,
     "metadata": {},
     "output_type": "execute_result"
    }
   ],
   "source": [
    "df.shape"
   ]
  },
  {
   "cell_type": "markdown",
   "id": "63c85fba",
   "metadata": {},
   "source": [
    "**Result:**\n",
    "\n",
    "- **We remove total (119143 - 118018) = 1125 duplicates rows**"
   ]
  },
  {
   "cell_type": "markdown",
   "id": "22dbb05b",
   "metadata": {},
   "source": [
    " "
   ]
  },
  {
   "cell_type": "markdown",
   "id": "8bb1974f",
   "metadata": {},
   "source": [
    "### 2) Handle missing values"
   ]
  },
  {
   "cell_type": "code",
   "execution_count": 7,
   "id": "2d7afd79",
   "metadata": {},
   "outputs": [
    {
     "name": "stdout",
     "output_type": "stream",
     "text": [
      "customer_unique_id = 0 \n",
      "customer_zip_code = 0 \n",
      "customer_city = 0 \n",
      "customer_state = 0 \n",
      "order_id = 0 \n",
      "order_status = 0 \n",
      "order_purchase_date = 0 \n",
      "order_approved_date = 166 \n",
      "shipping_limit_date = 812 \n",
      "order_delivered_carrier_date = 2055 \n",
      "order_delivered_customer_date = 3378 \n",
      "order_estimated_delivery_date = 0 \n",
      "order_payment_type = 3 \n",
      "payment_installments = 3 \n",
      "payment_value = 3 \n",
      "review_score = 994 \n",
      "order_item_id = 812 \n",
      "product_id = 812 \n",
      "seller_id = 812 \n",
      "price = 812 \n",
      "freight_value = 812 \n",
      "product_category_name = 2486 \n",
      "seller_zip_code = 813 \n",
      "seller_city = 813 \n",
      "seller_state = 813 \n",
      "Day = 0 \n",
      "week = 0 \n",
      "Year = 0 \n",
      "Month = 0 \n",
      "Quarter = 0 \n"
     ]
    }
   ],
   "source": [
    "for column in df.columns:\n",
    "    null_count = df[column].isnull().sum()\n",
    "    print(f'{column} = {null_count} ')"
   ]
  },
  {
   "cell_type": "markdown",
   "id": "5917c41c",
   "metadata": {},
   "source": [
    "#### A) Order approved date"
   ]
  },
  {
   "cell_type": "code",
   "execution_count": 8,
   "id": "9cb99aa7",
   "metadata": {},
   "outputs": [
    {
     "data": {
      "text/plain": [
       "166"
      ]
     },
     "execution_count": 8,
     "metadata": {},
     "output_type": "execute_result"
    }
   ],
   "source": [
    "df['order_approved_date'].isnull().sum()"
   ]
  },
  {
   "cell_type": "code",
   "execution_count": 9,
   "id": "4b03d484",
   "metadata": {},
   "outputs": [
    {
     "data": {
      "text/plain": [
       "15"
      ]
     },
     "execution_count": 9,
     "metadata": {},
     "output_type": "execute_result"
    }
   ],
   "source": [
    "((df['order_approved_date'].isnull()) & (df['order_status'] == 'delivered')).sum()"
   ]
  },
  {
   "cell_type": "markdown",
   "id": "b101b3fa",
   "metadata": {},
   "source": [
    "**Problem:** \n",
    "\n",
    "- We have 166 null values, but 15 rows are having order status \"Delivered\".\n",
    "\n",
    "**Solution**\n",
    "\n",
    "- So firstly we will calculate median value of time difference between 'order_approved_date' and 'order_purchase_date'\n",
    "- Then we fill 15 null 'order_approved_date' by corresponding 'order_purchase_date'"
   ]
  },
  {
   "cell_type": "code",
   "execution_count": 10,
   "id": "eb00397f",
   "metadata": {},
   "outputs": [
    {
     "data": {
      "text/plain": [
       "Timedelta('0 days 00:20:51')"
      ]
     },
     "execution_count": 10,
     "metadata": {},
     "output_type": "execute_result"
    }
   ],
   "source": [
    "# Calculate the median of time difference in days \n",
    "\n",
    "(df['order_approved_date'] - df['order_purchase_date']).median()"
   ]
  },
  {
   "cell_type": "markdown",
   "id": "3339af2c",
   "metadata": {},
   "source": [
    "**Conclusion:**\n",
    "\n",
    "- So here we get approval in less than a day, so we can fill null values of approval date by corresponding purchase date"
   ]
  },
  {
   "cell_type": "markdown",
   "id": "ace34d91",
   "metadata": {},
   "source": [
    "#### Adding corresponding purchase date to approved date"
   ]
  },
  {
   "cell_type": "code",
   "execution_count": 11,
   "id": "cd1d5891",
   "metadata": {},
   "outputs": [],
   "source": [
    "# Update 'order_approved_date' where it is null and 'order_status' is 'delivered'\n",
    "\n",
    "df.loc[df['order_status'] == 'delivered', 'order_approved_date'] = df.loc[df['order_status'] == 'delivered', 'order_approved_date'].fillna(df['order_purchase_date'])\n"
   ]
  },
  {
   "cell_type": "markdown",
   "id": "afb7f17a",
   "metadata": {},
   "source": [
    "- It selects the rows where order_status is 'delivered'.\n",
    "- Within these rows, it fills the NaN values in the order_approved_date column with the corresponding values from the  order_purchase_date column."
   ]
  },
  {
   "cell_type": "code",
   "execution_count": 12,
   "id": "70af6461",
   "metadata": {},
   "outputs": [
    {
     "data": {
      "text/plain": [
       "0"
      ]
     },
     "execution_count": 12,
     "metadata": {},
     "output_type": "execute_result"
    }
   ],
   "source": [
    "((df['order_approved_date'].isnull()) & (df['order_status'] == 'delivered')).sum()"
   ]
  },
  {
   "cell_type": "markdown",
   "id": "46dbebca",
   "metadata": {},
   "source": [
    "#### B) Shipping limit date"
   ]
  },
  {
   "cell_type": "code",
   "execution_count": 13,
   "id": "10560897",
   "metadata": {},
   "outputs": [
    {
     "data": {
      "text/plain": [
       "812"
      ]
     },
     "execution_count": 13,
     "metadata": {},
     "output_type": "execute_result"
    }
   ],
   "source": [
    "df[\"shipping_limit_date\"].isnull().sum()"
   ]
  },
  {
   "cell_type": "code",
   "execution_count": 14,
   "id": "89d6649c",
   "metadata": {},
   "outputs": [
    {
     "data": {
      "text/plain": [
       "0"
      ]
     },
     "execution_count": 14,
     "metadata": {},
     "output_type": "execute_result"
    }
   ],
   "source": [
    "(df[\"shipping_limit_date\"].isnull() & (df[\"order_status\"] == \"delivered\")).sum()"
   ]
  },
  {
   "cell_type": "markdown",
   "id": "e8d00138",
   "metadata": {},
   "source": [
    "**Problem:** \n",
    "    \n",
    "- We have 812 null values. Out of 812 null values, 1 null value is due to shipped which is not acceptable"
   ]
  },
  {
   "cell_type": "code",
   "execution_count": 15,
   "id": "1f845232",
   "metadata": {},
   "outputs": [
    {
     "data": {
      "text/plain": [
       "804"
      ]
     },
     "execution_count": 15,
     "metadata": {},
     "output_type": "execute_result"
    }
   ],
   "source": [
    "(df[\"shipping_limit_date\"].isnull() & ((df[\"order_status\"] == \"canceled\") | (df[\"order_status\"] == \"unavailable\"))).sum()"
   ]
  },
  {
   "cell_type": "code",
   "execution_count": 16,
   "id": "bafbffa7",
   "metadata": {},
   "outputs": [
    {
     "data": {
      "text/plain": [
       "created     5\n",
       "invoiced    2\n",
       "shipped     1\n",
       "Name: order_status, dtype: int64"
      ]
     },
     "execution_count": 16,
     "metadata": {},
     "output_type": "execute_result"
    }
   ],
   "source": [
    "x = df[df[\"shipping_limit_date\"].isnull() & ~((df[\"order_status\"] == \"canceled\") | (df[\"order_status\"] == \"unavailable\"))]\n",
    "x['order_status'].value_counts()"
   ]
  },
  {
   "cell_type": "code",
   "execution_count": 17,
   "id": "9f4b9c18",
   "metadata": {},
   "outputs": [
    {
     "data": {
      "text/plain": [
       "Timedelta('6 days 00:17:09')"
      ]
     },
     "execution_count": 17,
     "metadata": {},
     "output_type": "execute_result"
    }
   ],
   "source": [
    "# Calculate the median of time difference in days \n",
    "\n",
    "(df['shipping_limit_date'] - df['order_purchase_date']).median()"
   ]
  },
  {
   "cell_type": "code",
   "execution_count": 18,
   "id": "b440cd31",
   "metadata": {},
   "outputs": [],
   "source": [
    "# Update 'shipping limit date' where it is null and 'order_status' is 'shipped'\n",
    "\n",
    "df.loc[df['order_status'] == 'shipped', 'shipping_limit_date'] = df.loc[df['order_status'] == 'shipped', 'shipping_limit_date'].fillna(df['order_purchase_date']+ pd.Timedelta(days=6))"
   ]
  },
  {
   "cell_type": "code",
   "execution_count": 19,
   "id": "6e9d134d",
   "metadata": {},
   "outputs": [
    {
     "data": {
      "text/plain": [
       "0"
      ]
     },
     "execution_count": 19,
     "metadata": {},
     "output_type": "execute_result"
    }
   ],
   "source": [
    "(df[\"shipping_limit_date\"].isnull() & (df[\"order_status\"] == \"shipped\")).sum()"
   ]
  },
  {
   "cell_type": "markdown",
   "id": "3a9f0f6f",
   "metadata": {},
   "source": [
    "**Conclusion:** So we have removed null values where order status is \"shipped\""
   ]
  },
  {
   "cell_type": "markdown",
   "id": "3458f370",
   "metadata": {},
   "source": [
    "#### C) Order delivered carrier date"
   ]
  },
  {
   "cell_type": "code",
   "execution_count": 20,
   "id": "9ad18412",
   "metadata": {},
   "outputs": [
    {
     "data": {
      "text/plain": [
       "2055"
      ]
     },
     "execution_count": 20,
     "metadata": {},
     "output_type": "execute_result"
    }
   ],
   "source": [
    "df['order_delivered_carrier_date'].isnull().sum()"
   ]
  },
  {
   "cell_type": "code",
   "execution_count": 21,
   "id": "e23bcc95",
   "metadata": {},
   "outputs": [
    {
     "data": {
      "text/plain": [
       "2"
      ]
     },
     "execution_count": 21,
     "metadata": {},
     "output_type": "execute_result"
    }
   ],
   "source": [
    "((df['order_delivered_carrier_date'].isnull()) & (df['order_status'] == 'delivered')).sum()"
   ]
  },
  {
   "cell_type": "markdown",
   "id": "910527ea",
   "metadata": {},
   "source": [
    "**Problem:** \n",
    "\n",
    "- We have 2055 null values, from which We get 2 null values, where order status is \"delivered\", but still Order delivered carrier date is blank\n",
    "\n",
    "**Solution**\n",
    "\n",
    "- we will find difference between order approved date and order delivered carrier date, then will take median of that days, then add this median values into order approved date\n",
    "- whatever we get date, add to that 2 blanks rows in \"Order delivered carrier date\""
   ]
  },
  {
   "cell_type": "code",
   "execution_count": 22,
   "id": "388a617d",
   "metadata": {},
   "outputs": [
    {
     "data": {
      "text/plain": [
       "1.847951388888889"
      ]
     },
     "execution_count": 22,
     "metadata": {},
     "output_type": "execute_result"
    }
   ],
   "source": [
    "# Calculate the difference in days between 'order_approved_date' and 'order_delivered_carrier_date'\n",
    "\n",
    "((df['order_delivered_carrier_date'] - df['order_approved_date']) / np.timedelta64(1, 'D')).median()"
   ]
  },
  {
   "cell_type": "code",
   "execution_count": 23,
   "id": "ae3fe994",
   "metadata": {},
   "outputs": [],
   "source": [
    "df.loc[df['order_status'] == 'delivered', 'order_delivered_carrier_date'] = df.loc[df['order_status'] == 'delivered', 'order_delivered_carrier_date'].fillna(df['order_approved_date'] + pd.Timedelta(days=2))"
   ]
  },
  {
   "cell_type": "code",
   "execution_count": 24,
   "id": "d0d8f609",
   "metadata": {},
   "outputs": [
    {
     "data": {
      "text/plain": [
       "0"
      ]
     },
     "execution_count": 24,
     "metadata": {},
     "output_type": "execute_result"
    }
   ],
   "source": [
    "((df['order_delivered_carrier_date'].isnull()) & (df['order_status'] == 'delivered')).sum()"
   ]
  },
  {
   "cell_type": "code",
   "execution_count": 25,
   "id": "20b6265c",
   "metadata": {},
   "outputs": [
    {
     "data": {
      "text/plain": [
       "invoiced      377\n",
       "processing    370\n",
       "created         5\n",
       "approved        3\n",
       "Name: order_status, dtype: int64"
      ]
     },
     "execution_count": 25,
     "metadata": {},
     "output_type": "execute_result"
    }
   ],
   "source": [
    "x = df[df[\"order_delivered_carrier_date\"].isnull() & ~((df[\"order_status\"] == \"canceled\") | (df[\"order_status\"] == \"unavailable\"))]\n",
    "x['order_status'].value_counts()"
   ]
  },
  {
   "cell_type": "markdown",
   "id": "d012ab66",
   "metadata": {},
   "source": [
    "**Conclusion**\n",
    "\n",
    "- We have removed 2 null values where order status is \"delivered\""
   ]
  },
  {
   "cell_type": "markdown",
   "id": "b663a38c",
   "metadata": {},
   "source": [
    "#### D) order_delivered_customer_date"
   ]
  },
  {
   "cell_type": "code",
   "execution_count": 26,
   "id": "a8a40740",
   "metadata": {},
   "outputs": [
    {
     "data": {
      "text/plain": [
       "3378"
      ]
     },
     "execution_count": 26,
     "metadata": {},
     "output_type": "execute_result"
    }
   ],
   "source": [
    "df['order_delivered_customer_date'].isnull().sum()"
   ]
  },
  {
   "cell_type": "code",
   "execution_count": 27,
   "id": "bf657962",
   "metadata": {},
   "outputs": [
    {
     "data": {
      "text/plain": [
       "8"
      ]
     },
     "execution_count": 27,
     "metadata": {},
     "output_type": "execute_result"
    }
   ],
   "source": [
    "((df['order_delivered_customer_date'].isnull()) & (df['order_status'] == 'delivered')).sum()"
   ]
  },
  {
   "cell_type": "markdown",
   "id": "ee65eb7f",
   "metadata": {},
   "source": [
    "**Problem:** \n",
    "\n",
    "- We have 3378 null values of \"Order delivered_customer date\", but 8 rows having status \"Delivered\"\n",
    "\n",
    "**Solution:**\n",
    "\n",
    "- we will find difference between order approved date and order delivered customer date, then will take median of that days, then add this median values into order approved date\n",
    "- whatever we get date, add to that 8 blanks rows in \"Order delivered customer date\""
   ]
  },
  {
   "cell_type": "code",
   "execution_count": 28,
   "id": "95a3bb37",
   "metadata": {},
   "outputs": [
    {
     "data": {
      "text/plain": [
       "9.830619212962963"
      ]
     },
     "execution_count": 28,
     "metadata": {},
     "output_type": "execute_result"
    }
   ],
   "source": [
    "((df['order_delivered_customer_date'] - df['order_approved_date']) / np.timedelta64(1, 'D')).median()"
   ]
  },
  {
   "cell_type": "code",
   "execution_count": 29,
   "id": "1c8b9428",
   "metadata": {},
   "outputs": [],
   "source": [
    "df.loc[df['order_status'] == 'delivered', 'order_delivered_customer_date'] = df.loc[df['order_status'] == 'delivered', 'order_delivered_customer_date'].fillna(df['order_approved_date'] + pd.Timedelta(days=10))"
   ]
  },
  {
   "cell_type": "code",
   "execution_count": 30,
   "id": "cc016f7d",
   "metadata": {},
   "outputs": [
    {
     "data": {
      "text/plain": [
       "0"
      ]
     },
     "execution_count": 30,
     "metadata": {},
     "output_type": "execute_result"
    }
   ],
   "source": [
    "((df['order_delivered_customer_date'].isnull()) & (df['order_status'] == 'delivered')).sum()"
   ]
  },
  {
   "cell_type": "code",
   "execution_count": 31,
   "id": "b676b637",
   "metadata": {},
   "outputs": [
    {
     "data": {
      "text/plain": [
       "shipped        1245\n",
       "canceled        728\n",
       "unavailable     642\n",
       "invoiced        377\n",
       "processing      370\n",
       "created           5\n",
       "approved          3\n",
       "Name: order_status, dtype: int64"
      ]
     },
     "execution_count": 31,
     "metadata": {},
     "output_type": "execute_result"
    }
   ],
   "source": [
    "y = df[(df['order_delivered_customer_date'].isnull()) & ~(df['order_status'] == 'delivered')]\n",
    "y['order_status'].value_counts()"
   ]
  },
  {
   "cell_type": "markdown",
   "id": "88734da0",
   "metadata": {},
   "source": [
    "**Result**\n",
    "\n",
    "- We have filled that 8 rows, where order status is \"delivered\""
   ]
  },
  {
   "cell_type": "markdown",
   "id": "8f9851e5",
   "metadata": {},
   "source": [
    "#### E) Order_payment_type"
   ]
  },
  {
   "cell_type": "code",
   "execution_count": 32,
   "id": "1c5058ff",
   "metadata": {},
   "outputs": [
    {
     "data": {
      "text/plain": [
       "3"
      ]
     },
     "execution_count": 32,
     "metadata": {},
     "output_type": "execute_result"
    }
   ],
   "source": [
    "df[\"order_payment_type\"].isnull().sum()"
   ]
  },
  {
   "cell_type": "markdown",
   "id": "281eaead",
   "metadata": {},
   "source": [
    "**Problem:** \n",
    "    \n",
    "- Instead order status is \"delivered\", We have 3 null values of \"Order_payment_type\".\n",
    "\n",
    "**Solution**\n",
    "\n",
    "- As it is categorical variable and also only 3 rows out of 118018 rows are null, we can take mode of \"Order_payment_type\" and fill those 3 rows with mode value"
   ]
  },
  {
   "cell_type": "code",
   "execution_count": 33,
   "id": "fde09cb6",
   "metadata": {},
   "outputs": [
    {
     "data": {
      "text/plain": [
       "3"
      ]
     },
     "execution_count": 33,
     "metadata": {},
     "output_type": "execute_result"
    }
   ],
   "source": [
    "df[\"order_payment_type\"].isnull().sum()"
   ]
  },
  {
   "cell_type": "code",
   "execution_count": 34,
   "id": "07a21330",
   "metadata": {},
   "outputs": [
    {
     "data": {
      "text/plain": [
       "'credit_card'"
      ]
     },
     "execution_count": 34,
     "metadata": {},
     "output_type": "execute_result"
    }
   ],
   "source": [
    "mode_value = df['order_payment_type'].mode()[0]\n",
    "mode_value"
   ]
  },
  {
   "cell_type": "code",
   "execution_count": 35,
   "id": "e1c35f60",
   "metadata": {},
   "outputs": [],
   "source": [
    "df['order_payment_type'] = df['order_payment_type'].fillna(mode_value)"
   ]
  },
  {
   "cell_type": "code",
   "execution_count": 36,
   "id": "2bcafef2",
   "metadata": {},
   "outputs": [
    {
     "data": {
      "text/plain": [
       "0"
      ]
     },
     "execution_count": 36,
     "metadata": {},
     "output_type": "execute_result"
    }
   ],
   "source": [
    "df['order_payment_type'].isnull().sum()"
   ]
  },
  {
   "cell_type": "markdown",
   "id": "9a4ef666",
   "metadata": {},
   "source": [
    "**Result :**\n",
    "\n",
    "- Now we have 0 null values of 'order payment type'"
   ]
  },
  {
   "cell_type": "markdown",
   "id": "a3538cbd",
   "metadata": {},
   "source": [
    "#### F) Payments_installments:"
   ]
  },
  {
   "cell_type": "code",
   "execution_count": 37,
   "id": "d999894b",
   "metadata": {},
   "outputs": [
    {
     "data": {
      "text/plain": [
       "3"
      ]
     },
     "execution_count": 37,
     "metadata": {},
     "output_type": "execute_result"
    }
   ],
   "source": [
    "df[\"payment_installments\"].isnull().sum()"
   ]
  },
  {
   "cell_type": "markdown",
   "id": "847fefce",
   "metadata": {},
   "source": [
    " **info:**\n",
    " Installment payments after delivery are very common, especially with **credit cards**. "
   ]
  },
  {
   "cell_type": "markdown",
   "id": "84f7aa88",
   "metadata": {},
   "source": [
    "**Problem:** \n",
    "    \n",
    "- Instead order status is \"delivered\", We have 3 null values of \"payment_installments\".\n",
    "\n",
    "**Solution**\n",
    "\n",
    "- As it is categorical variable and also only 3 rows out of 118018 rows are null, we can take mode of \"Order_payment_type\" and fill those 3 rows with mode value"
   ]
  },
  {
   "cell_type": "code",
   "execution_count": 38,
   "id": "e196662b",
   "metadata": {},
   "outputs": [
    {
     "data": {
      "text/plain": [
       "1.0"
      ]
     },
     "execution_count": 38,
     "metadata": {},
     "output_type": "execute_result"
    }
   ],
   "source": [
    "mode_value2 = df['payment_installments'].mode()[0]\n",
    "mode_value2"
   ]
  },
  {
   "cell_type": "code",
   "execution_count": 39,
   "id": "7bcc879b",
   "metadata": {},
   "outputs": [],
   "source": [
    "df[\"payment_installments\"] = df[\"payment_installments\"].fillna(mode_value2)"
   ]
  },
  {
   "cell_type": "code",
   "execution_count": 40,
   "id": "13b0c39d",
   "metadata": {},
   "outputs": [
    {
     "data": {
      "text/plain": [
       "0"
      ]
     },
     "execution_count": 40,
     "metadata": {},
     "output_type": "execute_result"
    }
   ],
   "source": [
    "df[\"payment_installments\"].isnull().sum()"
   ]
  },
  {
   "cell_type": "markdown",
   "id": "5fd69603",
   "metadata": {},
   "source": [
    "**Result :**\n",
    "\n",
    "- Now we have 0 null values of 'payment_installments'"
   ]
  },
  {
   "cell_type": "markdown",
   "id": "d2a375c0",
   "metadata": {},
   "source": [
    "#### F) payment value:"
   ]
  },
  {
   "cell_type": "markdown",
   "id": "2fa089ac",
   "metadata": {},
   "source": [
    "**Problem:** \n",
    "    \n",
    "- We have 3 null rows of \"payment value\" column, instead order status is \"Delivered\"\n",
    "\n",
    "**Solution:**\n",
    "    \n",
    "- Actually \"payment value\" is sum of \"price\" and \"freight value\" column.\n",
    "- We have corresponding \"price\" and \"freight value\" value, so we add those values and fill into corresonding null rows"
   ]
  },
  {
   "cell_type": "code",
   "execution_count": 41,
   "id": "0e5f4c3a",
   "metadata": {},
   "outputs": [],
   "source": [
    "df.loc[(df[\"payment_value\"].isnull()) & (df[\"order_status\"]==\"delivered\"),\"payment_value\"] = df['price'] + df['freight_value']"
   ]
  },
  {
   "cell_type": "code",
   "execution_count": 42,
   "id": "83c7cffb",
   "metadata": {},
   "outputs": [
    {
     "data": {
      "text/plain": [
       "0"
      ]
     },
     "execution_count": 42,
     "metadata": {},
     "output_type": "execute_result"
    }
   ],
   "source": [
    "df[\"payment_value\"].isnull().sum()"
   ]
  },
  {
   "cell_type": "markdown",
   "id": "e7e76fa4",
   "metadata": {},
   "source": [
    "**Result :**\n",
    "\n",
    "- Now we have 0 null values of 'payment value'"
   ]
  },
  {
   "cell_type": "markdown",
   "id": "2115a996",
   "metadata": {},
   "source": [
    "#### G) Review score"
   ]
  },
  {
   "cell_type": "code",
   "execution_count": 43,
   "id": "01061f69",
   "metadata": {},
   "outputs": [
    {
     "data": {
      "text/plain": [
       "994"
      ]
     },
     "execution_count": 43,
     "metadata": {},
     "output_type": "execute_result"
    }
   ],
   "source": [
    "df[\"review_score\"].isnull().sum()"
   ]
  },
  {
   "cell_type": "code",
   "execution_count": 44,
   "id": "023f48a0",
   "metadata": {},
   "outputs": [
    {
     "data": {
      "text/plain": [
       "delivered      858\n",
       "shipped         88\n",
       "canceled        20\n",
       "unavailable     14\n",
       "invoiced         6\n",
       "processing       6\n",
       "created          2\n",
       "Name: order_status, dtype: int64"
      ]
     },
     "execution_count": 44,
     "metadata": {},
     "output_type": "execute_result"
    }
   ],
   "source": [
    "x = df[(df[\"review_score\"].isnull()) & ~(df[\"order_status\"]==\"\")]\n",
    "x[\"order_status\"].value_counts()"
   ]
  },
  {
   "cell_type": "markdown",
   "id": "a916170f",
   "metadata": {},
   "source": [
    "**Problem:**\n",
    "\n",
    "- We have 994 review score\n",
    "\n",
    "\n",
    "**Solution:**\n",
    "\n",
    "- i have decided to fill null values by zero(0) representing \"missing\" "
   ]
  },
  {
   "cell_type": "code",
   "execution_count": 45,
   "id": "aee970ad",
   "metadata": {},
   "outputs": [],
   "source": [
    "df[\"review_score\"] = df[\"review_score\"].fillna(0)"
   ]
  },
  {
   "cell_type": "code",
   "execution_count": 46,
   "id": "ff113c7b",
   "metadata": {},
   "outputs": [
    {
     "data": {
      "text/plain": [
       "0"
      ]
     },
     "execution_count": 46,
     "metadata": {},
     "output_type": "execute_result"
    }
   ],
   "source": [
    "df[\"review_score\"].isnull().sum()"
   ]
  },
  {
   "cell_type": "markdown",
   "id": "c859465a",
   "metadata": {},
   "source": [
    "**Result**\n",
    "\n",
    "- These 994 null \"review score\" values may be due to non-restriction of reviews, so we replaced all null values by 0(missing)"
   ]
  },
  {
   "cell_type": "markdown",
   "id": "27d599b0",
   "metadata": {},
   "source": [
    "#### H) Order item id"
   ]
  },
  {
   "cell_type": "code",
   "execution_count": 47,
   "id": "1c6f9c88",
   "metadata": {},
   "outputs": [
    {
     "data": {
      "text/plain": [
       "812"
      ]
     },
     "execution_count": 47,
     "metadata": {},
     "output_type": "execute_result"
    }
   ],
   "source": [
    "df[\"order_item_id\"].isnull().sum()"
   ]
  },
  {
   "cell_type": "code",
   "execution_count": 48,
   "id": "8058e63a",
   "metadata": {},
   "outputs": [
    {
     "data": {
      "text/plain": [
       "unavailable    635\n",
       "canceled       169\n",
       "created          5\n",
       "invoiced         2\n",
       "shipped          1\n",
       "Name: order_status, dtype: int64"
      ]
     },
     "execution_count": 48,
     "metadata": {},
     "output_type": "execute_result"
    }
   ],
   "source": [
    "x = df[(df[\"order_item_id\"].isnull()) & ~(df[\"order_status\"]==\"\")]\n",
    "x[\"order_status\"].value_counts()"
   ]
  },
  {
   "cell_type": "markdown",
   "id": "f71c062c",
   "metadata": {},
   "source": [
    "**Problem:**\n",
    "- There are 812 null values present in \"order item id\" column\n",
    "- Corresponding order status when they null - created, cancelled, invoiced, unavailable, shipped\n",
    "\n",
    "**Solution:**\n",
    "\n",
    "- Fills the null values in order item id by zero(0)"
   ]
  },
  {
   "cell_type": "code",
   "execution_count": 49,
   "id": "3357fe69",
   "metadata": {},
   "outputs": [],
   "source": [
    "df[\"order_item_id\"] = df[\"order_item_id\"].fillna(0)"
   ]
  },
  {
   "cell_type": "code",
   "execution_count": 50,
   "id": "851a60ce",
   "metadata": {},
   "outputs": [
    {
     "data": {
      "text/plain": [
       "0"
      ]
     },
     "execution_count": 50,
     "metadata": {},
     "output_type": "execute_result"
    }
   ],
   "source": [
    "df[\"order_item_id\"].isnull().sum()"
   ]
  },
  {
   "cell_type": "markdown",
   "id": "a957ee04",
   "metadata": {},
   "source": [
    "**Conclusion:**\n",
    "- We have replaced null values by 0"
   ]
  },
  {
   "cell_type": "markdown",
   "id": "408f09af",
   "metadata": {},
   "source": [
    "#### I) Product id, seller id"
   ]
  },
  {
   "cell_type": "code",
   "execution_count": 51,
   "id": "13f9fdb1",
   "metadata": {},
   "outputs": [
    {
     "data": {
      "text/plain": [
       "unavailable    635\n",
       "canceled       169\n",
       "created          5\n",
       "invoiced         2\n",
       "shipped          1\n",
       "Name: order_status, dtype: int64"
      ]
     },
     "execution_count": 51,
     "metadata": {},
     "output_type": "execute_result"
    }
   ],
   "source": [
    "x = df[(df[\"product_id\"].isnull()) & ~(df[\"order_status\"]==\"\")]\n",
    "x[\"order_status\"].value_counts()"
   ]
  },
  {
   "cell_type": "code",
   "execution_count": 52,
   "id": "74ab3abb",
   "metadata": {},
   "outputs": [
    {
     "data": {
      "text/plain": [
       "812"
      ]
     },
     "execution_count": 52,
     "metadata": {},
     "output_type": "execute_result"
    }
   ],
   "source": [
    "(df[\"product_id\"].isnull().sum())"
   ]
  },
  {
   "cell_type": "code",
   "execution_count": 53,
   "id": "aa07432b",
   "metadata": {},
   "outputs": [],
   "source": [
    "df[\"product_id\"] = df[\"product_id\"].fillna(0)"
   ]
  },
  {
   "cell_type": "code",
   "execution_count": 54,
   "id": "3539e2bb",
   "metadata": {},
   "outputs": [
    {
     "data": {
      "text/plain": [
       "0"
      ]
     },
     "execution_count": 54,
     "metadata": {},
     "output_type": "execute_result"
    }
   ],
   "source": [
    "(df[\"product_id\"].isnull().sum())"
   ]
  },
  {
   "cell_type": "code",
   "execution_count": 55,
   "id": "6000c522",
   "metadata": {},
   "outputs": [
    {
     "data": {
      "text/plain": [
       "812"
      ]
     },
     "execution_count": 55,
     "metadata": {},
     "output_type": "execute_result"
    }
   ],
   "source": [
    "(df[\"seller_id\"].isnull().sum())"
   ]
  },
  {
   "cell_type": "code",
   "execution_count": 56,
   "id": "0e8928ec",
   "metadata": {},
   "outputs": [],
   "source": [
    "df[\"seller_id\"] = df[\"seller_id\"].fillna(0)"
   ]
  },
  {
   "cell_type": "code",
   "execution_count": 57,
   "id": "24289b2b",
   "metadata": {},
   "outputs": [
    {
     "data": {
      "text/plain": [
       "0"
      ]
     },
     "execution_count": 57,
     "metadata": {},
     "output_type": "execute_result"
    }
   ],
   "source": [
    "(df[\"seller_id\"].isnull().sum())"
   ]
  },
  {
   "cell_type": "markdown",
   "id": "876b7f24",
   "metadata": {},
   "source": [
    "- **seller city, zip,state** are corresponding to seller id , so they also have same number of null values"
   ]
  },
  {
   "cell_type": "markdown",
   "id": "75a59f42",
   "metadata": {},
   "source": [
    "#### J) Price & freight value"
   ]
  },
  {
   "cell_type": "code",
   "execution_count": 58,
   "id": "2b1e6342",
   "metadata": {},
   "outputs": [
    {
     "data": {
      "text/plain": [
       "812"
      ]
     },
     "execution_count": 58,
     "metadata": {},
     "output_type": "execute_result"
    }
   ],
   "source": [
    "df[\"price\"].isnull().sum()"
   ]
  },
  {
   "cell_type": "code",
   "execution_count": 59,
   "id": "20736ee5",
   "metadata": {},
   "outputs": [
    {
     "data": {
      "text/plain": [
       "812"
      ]
     },
     "execution_count": 59,
     "metadata": {},
     "output_type": "execute_result"
    }
   ],
   "source": [
    "df[\"freight_value\"].isnull().sum()"
   ]
  },
  {
   "cell_type": "markdown",
   "id": "9e8bb3ea",
   "metadata": {},
   "source": [
    "**Problem:**\n",
    "\n",
    "- we have 812 null values"
   ]
  },
  {
   "cell_type": "code",
   "execution_count": 60,
   "id": "03615bbc",
   "metadata": {},
   "outputs": [
    {
     "data": {
      "text/plain": [
       "unavailable    635\n",
       "canceled       169\n",
       "created          5\n",
       "invoiced         2\n",
       "shipped          1\n",
       "Name: order_status, dtype: int64"
      ]
     },
     "execution_count": 60,
     "metadata": {},
     "output_type": "execute_result"
    }
   ],
   "source": [
    "x = df[(df[\"price\"].isnull()) & ~(df[\"order_status\"]==\"\")]\n",
    "x[\"order_status\"].value_counts()"
   ]
  },
  {
   "cell_type": "code",
   "execution_count": 61,
   "id": "2e964eb7",
   "metadata": {},
   "outputs": [
    {
     "data": {
      "text/plain": [
       "unavailable    635\n",
       "canceled       169\n",
       "created          5\n",
       "invoiced         2\n",
       "shipped          1\n",
       "Name: order_status, dtype: int64"
      ]
     },
     "execution_count": 61,
     "metadata": {},
     "output_type": "execute_result"
    }
   ],
   "source": [
    "x = df[(df[\"freight_value\"].isnull()) & ~(df[\"order_status\"]==\"\")]\n",
    "x[\"order_status\"].value_counts()"
   ]
  },
  {
   "cell_type": "markdown",
   "id": "dcec9af6",
   "metadata": {},
   "source": [
    "**Conclusion:**\n",
    "\n",
    "- As reason for null values during unavailable,canceled, invoiced is understandable "
   ]
  },
  {
   "cell_type": "markdown",
   "id": "5027f231",
   "metadata": {},
   "source": [
    "#### K) Product category name"
   ]
  },
  {
   "cell_type": "markdown",
   "id": "07627663",
   "metadata": {},
   "source": [
    "- we have 2486 null values"
   ]
  },
  {
   "cell_type": "code",
   "execution_count": 62,
   "id": "8d787a49",
   "metadata": {},
   "outputs": [
    {
     "data": {
      "text/plain": [
       "delivered      1603\n",
       "unavailable     635\n",
       "canceled        184\n",
       "shipped          31\n",
       "invoiced         14\n",
       "processing       14\n",
       "created           5\n",
       "Name: order_status, dtype: int64"
      ]
     },
     "execution_count": 62,
     "metadata": {},
     "output_type": "execute_result"
    }
   ],
   "source": [
    "x = df[(df[\"product_category_name\"].isnull()) & ~(df[\"order_status\"]== \"\")]\n",
    "x[\"order_status\"].value_counts()"
   ]
  },
  {
   "cell_type": "code",
   "execution_count": 63,
   "id": "8e0d53ee",
   "metadata": {},
   "outputs": [
    {
     "data": {
      "text/plain": [
       "delivered      113038\n",
       "shipped          1214\n",
       "canceled          551\n",
       "invoiced          363\n",
       "processing        356\n",
       "unavailable         7\n",
       "approved            3\n",
       "Name: order_status, dtype: int64"
      ]
     },
     "execution_count": 63,
     "metadata": {},
     "output_type": "execute_result"
    }
   ],
   "source": [
    "x = df[~(df[\"product_category_name\"].isnull()) & ~(df[\"order_status\"]== \"\")]\n",
    "x[\"order_status\"].value_counts()"
   ]
  },
  {
   "cell_type": "code",
   "execution_count": 64,
   "id": "33cd540d",
   "metadata": {},
   "outputs": [
    {
     "data": {
      "text/plain": [
       "delivered      113038\n",
       "shipped          1214\n",
       "canceled          551\n",
       "invoiced          363\n",
       "processing        356\n",
       "unavailable         7\n",
       "approved            3\n",
       "Name: order_status, dtype: int64"
      ]
     },
     "execution_count": 64,
     "metadata": {},
     "output_type": "execute_result"
    }
   ],
   "source": [
    "x = df[~(df[\"product_category_name\"].isnull()) & ~(df[\"order_status\"]== \"\")]\n",
    "x[\"order_status\"].value_counts()"
   ]
  },
  {
   "cell_type": "code",
   "execution_count": 65,
   "id": "7c227f9c",
   "metadata": {},
   "outputs": [],
   "source": [
    "df[\"product_category_name\"] = df[\"product_category_name\"].fillna(\"missing\")"
   ]
  },
  {
   "cell_type": "code",
   "execution_count": 66,
   "id": "0172a793",
   "metadata": {},
   "outputs": [
    {
     "data": {
      "text/plain": [
       "0"
      ]
     },
     "execution_count": 66,
     "metadata": {},
     "output_type": "execute_result"
    }
   ],
   "source": [
    "df[\"product_category_name\"].isnull().sum()"
   ]
  },
  {
   "cell_type": "markdown",
   "id": "bf59610b",
   "metadata": {},
   "source": [
    "**Conclusion:** Here we check both scenerio, from this its look like values are missing,  so we filled it by \"missing\""
   ]
  },
  {
   "cell_type": "markdown",
   "id": "ceee7394",
   "metadata": {},
   "source": [
    " "
   ]
  },
  {
   "cell_type": "markdown",
   "id": "d02cf8fe",
   "metadata": {},
   "source": [
    "<div style=\"background-color: #E3F2FD; padding: 20px; border-radius: 10px;\">\n",
    "    <h1 style=\"color: #004D40; text-align: left; font-size: 1.5em;\">Data transformation</h1>\n",
    "</div>"
   ]
  },
  {
   "cell_type": "markdown",
   "id": "b773ec95",
   "metadata": {},
   "source": [
    "### A) Product category name:"
   ]
  },
  {
   "cell_type": "markdown",
   "id": "f86e855e",
   "metadata": {},
   "source": [
    "**Problem:**\n",
    "    \n",
    "- We have product category name in brazilian language, which is not understanable \n",
    "\n",
    "**Solution:**\n",
    "    \n",
    "- We will tranform that column data into enlgish language using replace function"
   ]
  },
  {
   "cell_type": "code",
   "execution_count": 67,
   "id": "f4056286",
   "metadata": {},
   "outputs": [
    {
     "name": "stdout",
     "output_type": "stream",
     "text": [
      "['moveis_escritorio' 'missing' 'pet_shop' 'automotivo' 'pcs' 'brinquedos'\n",
      " 'casa_construcao' 'utilidades_domesticas' 'moveis_decoracao' 'papelaria'\n",
      " 'artes' 'perfumaria' 'informatica_acessorios' 'telefonia' 'esporte_lazer'\n",
      " 'cool_stuff' 'beleza_saude' 'cama_mesa_banho' 'ferramentas_jardim'\n",
      " 'eletronicos' 'relogios_presentes' 'bebes'\n",
      " 'construcao_ferramentas_construcao' 'consoles_games' 'moveis_sala'\n",
      " 'malas_acessorios' 'fashion_calcados' 'climatizacao'\n",
      " 'industria_comercio_e_negocios' 'audio' 'fashion_bolsas_e_acessorios'\n",
      " 'sinalizacao_e_seguranca' 'fashion_underwear_e_moda_praia'\n",
      " 'instrumentos_musicais' 'eletrodomesticos_2' 'alimentos_bebidas'\n",
      " 'alimentos' 'livros_interesse_geral' 'casa_conforto' 'market_place'\n",
      " 'livros_importados' 'livros_tecnicos' 'eletrodomesticos'\n",
      " 'eletroportateis' 'bebidas' 'construcao_ferramentas_jardim'\n",
      " 'moveis_cozinha_area_de_servico_jantar_e_jardim' 'telefonia_fixa'\n",
      " 'portateis_casa_forno_e_cafe' 'fraldas_higiene'\n",
      " 'construcao_ferramentas_iluminacao' 'artigos_de_festas'\n",
      " 'artigos_de_natal' 'fashion_roupa_feminina' 'tablets_impressao_imagem'\n",
      " 'agro_industria_e_comercio' 'construcao_ferramentas_seguranca'\n",
      " 'construcao_ferramentas_ferramentas' 'cine_foto'\n",
      " 'fashion_roupa_masculina' 'artes_e_artesanato' 'pc_gamer' 'musica'\n",
      " 'moveis_quarto' 'la_cuisine' 'flores' 'moveis_colchao_e_estofado'\n",
      " 'cds_dvds_musicais' 'casa_conforto_2' 'fashion_esporte' 'dvds_blu_ray'\n",
      " 'portateis_cozinha_e_preparadores_de_alimentos' 'seguros_e_servicos'\n",
      " 'fashion_roupa_infanto_juvenil']\n",
      "74\n"
     ]
    }
   ],
   "source": [
    "# Printout the unique product_category_name\n",
    "\n",
    "print(df[\"product_category_name\"].unique())\n",
    "print(df[\"product_category_name\"].nunique())"
   ]
  },
  {
   "cell_type": "code",
   "execution_count": 68,
   "id": "3d81a3be",
   "metadata": {},
   "outputs": [],
   "source": [
    "# First create dictionary\n",
    "\n",
    "translation = {\n",
    "    'moveis_escritorio': 'Office Furniture',\n",
    "    'pet_shop': 'Pet Shop',\n",
    "    'automotivo': 'Automotive',\n",
    "    'pcs': 'PCs',\n",
    "    'brinquedos': 'Toys',\n",
    "    'casa_construcao': 'Home Construction',\n",
    "    'utilidades_domesticas': 'Household Utilities',\n",
    "    'moveis_decoracao': 'Decorative Furniture',\n",
    "    'papelaria': 'Stationery',\n",
    "    'artes': 'Arts',\n",
    "    'perfumaria': 'Perfumes',\n",
    "    'informatica_acessorios': 'Computer Accessories',\n",
    "    'telefonia': 'Telephony',\n",
    "    'esporte_lazer': 'Sports and Leisure',\n",
    "    'cool_stuff': 'Cool Stuff',\n",
    "    'beleza_saude': 'Beauty and Health',\n",
    "    'cama_mesa_banho': 'Bedding, Tableware, and Bath',\n",
    "    'ferramentas_jardim': 'Garden Tools',\n",
    "    'eletronicos': 'Electronics',\n",
    "    'relogios_presentes': 'Watches and Gifts',\n",
    "    'bebes': 'Babies',\n",
    "    'construcao_ferramentas_construcao': 'Construction Tools and Construction',\n",
    "    'consoles_games': 'Game Consoles',\n",
    "    'moveis_sala': 'Living Room Furniture',\n",
    "    'malas_acessorios': 'Bags and Accessories',\n",
    "    'fashion_calcados': 'Fashion Footwear',\n",
    "    'climatizacao': 'Climate Control',\n",
    "    'industria_comercio_e_negocios': 'Industry, Trade, and Business',\n",
    "    'audio': 'Audio',\n",
    "    'fashion_bolsas_e_acessorios': 'Fashion Bags and Accessories',\n",
    "    'sinalizacao_e_seguranca': 'Signage and Safety',\n",
    "    'fashion_underwear_e_moda_praia': 'Fashion Underwear and Beachwear',\n",
    "    'instrumentos_musicais': 'Musical Instruments',\n",
    "    'eletrodomesticos_2': 'Home Appliances',\n",
    "    'alimentos_bebidas': 'Food and Beverages',\n",
    "    'alimentos': 'Food',\n",
    "    'livros_interesse_geral': 'General Interest Books',\n",
    "    'casa_conforto': 'Home Comfort',\n",
    "    'market_place': 'Marketplace',\n",
    "    'livros_importados': 'Imported Books',\n",
    "    'livros_tecnicos': 'Technical Books',\n",
    "    'eletrodomesticos': 'Home Appliances',\n",
    "    'eletroportateis': 'Small Appliances',\n",
    "    'bebidas': 'Beverages',\n",
    "    'construcao_ferramentas_jardim': 'Construction and Garden Tools',\n",
    "    'moveis_cozinha_area_de_servico_jantar_e_jardim': 'Kitchen, Service Area, Dining, and Garden Furniture',\n",
    "    'telefonia_fixa': 'Fixed Telephony',\n",
    "    'portateis_casa_forno_e_cafe': 'Portable Household Appliances',\n",
    "    'fraldas_higiene': 'Diapers and Hygiene',\n",
    "    'construcao_ferramentas_iluminacao': 'Construction Tools and Lighting',\n",
    "    'artigos_de_festas': 'Party Supplies',\n",
    "    'artigos_de_natal': 'Christmas Items',\n",
    "    'fashion_roupa_feminina': 'Fashion Women\\'s Clothing',\n",
    "    'tablets_impressao_imagem': 'Tablets, Printing, and Imaging',\n",
    "    'agro_industria_e_comercio': 'Agriculture, Industry, and Trade',\n",
    "    'construcao_ferramentas_seguranca': 'Construction Tools and Safety',\n",
    "    'construcao_ferramentas_ferramentas': 'Construction Tools and Tools',\n",
    "    'cine_foto': 'Cine and Photo',\n",
    "    'fashion_roupa_masculina': 'Fashion Men\\'s Clothing',\n",
    "    'artes_e_artesanato': 'Arts and Crafts',\n",
    "    'pc_gamer': 'Gaming PCs',\n",
    "    'musica': 'Music',\n",
    "    'moveis_quarto': 'Bedroom Furniture',\n",
    "    'la_cuisine': 'The Kitchen',\n",
    "    'flores': 'Flowers',\n",
    "    'moveis_colchao_e_estofado': 'Furniture, Mattresses, and Upholstery',\n",
    "    'cds_dvds_musicais': 'Music CDs and DVDs',\n",
    "    'casa_conforto_2': 'Home Comfort 2',\n",
    "    'fashion_esporte': 'Fashion Sportswear',\n",
    "    'dvds_blu_ray': 'DVDs and Blu-rays',\n",
    "    'portateis_cozinha_e_preparadores_de_alimentos': 'Portable Kitchen Appliances and Food Preparers',\n",
    "    'seguros_e_servicos': 'Insurance and Services',\n",
    "    'fashion_roupa_infanto_juvenil': 'Fashion Youth Clothing'\n",
    "}"
   ]
  },
  {
   "cell_type": "code",
   "execution_count": 69,
   "id": "e3800e86",
   "metadata": {},
   "outputs": [],
   "source": [
    "df[\"Product_category name_english\"] = df[\"product_category_name\"].replace(translation)"
   ]
  },
  {
   "cell_type": "code",
   "execution_count": 70,
   "id": "b5d2e9ee",
   "metadata": {},
   "outputs": [
    {
     "data": {
      "text/plain": [
       "Index(['customer_unique_id', 'customer_zip_code', 'customer_city',\n",
       "       'customer_state', 'order_id', 'order_status', 'order_purchase_date',\n",
       "       'order_approved_date', 'shipping_limit_date',\n",
       "       'order_delivered_carrier_date', 'order_delivered_customer_date',\n",
       "       'order_estimated_delivery_date', 'order_payment_type',\n",
       "       'payment_installments', 'payment_value', 'review_score',\n",
       "       'order_item_id', 'product_id', 'seller_id', 'price', 'freight_value',\n",
       "       'product_category_name', 'seller_zip_code', 'seller_city',\n",
       "       'seller_state', 'Day', 'week', 'Year', 'Month', 'Quarter',\n",
       "       'Product_category name_english'],\n",
       "      dtype='object')"
      ]
     },
     "execution_count": 70,
     "metadata": {},
     "output_type": "execute_result"
    }
   ],
   "source": [
    "df.columns"
   ]
  },
  {
   "cell_type": "code",
   "execution_count": 71,
   "id": "a682a577",
   "metadata": {},
   "outputs": [],
   "source": [
    "# Now we can \"drop product category name\" column present in brazilian language\n",
    "\n",
    "df.drop(columns=['product_category_name'],inplace=True)"
   ]
  },
  {
   "cell_type": "markdown",
   "id": "c8b28cb0",
   "metadata": {},
   "source": [
    "**Conclusion:**\n",
    "    \n",
    "- We have added new column with english translated product category name and remove old one"
   ]
  },
  {
   "cell_type": "markdown",
   "id": "36b7fa04",
   "metadata": {},
   "source": [
    " "
   ]
  },
  {
   "cell_type": "markdown",
   "id": "7152dc20",
   "metadata": {},
   "source": [
    " "
   ]
  },
  {
   "cell_type": "markdown",
   "id": "147443f2",
   "metadata": {},
   "source": [
    "<div style=\"background-color: #E3F2FD; padding: 20px; border-radius: 10px;\">\n",
    "    <h1 style=\"color: #004D40; text-align: left; font-size: 1.5em;\">Exploratory data analysis - Univariate</h1>\n",
    "</div>"
   ]
  },
  {
   "cell_type": "markdown",
   "id": "8767d0c5",
   "metadata": {},
   "source": [
    "### A) Customer_unique_id :"
   ]
  },
  {
   "cell_type": "markdown",
   "id": "693b00a1",
   "metadata": {},
   "source": [
    "- **Total customers:**"
   ]
  },
  {
   "cell_type": "code",
   "execution_count": 72,
   "id": "f8ee0c7a",
   "metadata": {},
   "outputs": [
    {
     "data": {
      "text/plain": [
       "118018"
      ]
     },
     "execution_count": 72,
     "metadata": {},
     "output_type": "execute_result"
    }
   ],
   "source": [
    "df[\"customer_unique_id\"].count()"
   ]
  },
  {
   "cell_type": "markdown",
   "id": "0bf86329",
   "metadata": {},
   "source": [
    "- **Total unique customers :**"
   ]
  },
  {
   "cell_type": "code",
   "execution_count": 73,
   "id": "fcbda4c5",
   "metadata": {},
   "outputs": [
    {
     "data": {
      "text/plain": [
       "96096"
      ]
     },
     "execution_count": 73,
     "metadata": {},
     "output_type": "execute_result"
    }
   ],
   "source": [
    "df['customer_unique_id'].nunique()"
   ]
  },
  {
   "cell_type": "markdown",
   "id": "88aa0095",
   "metadata": {},
   "source": [
    " "
   ]
  },
  {
   "cell_type": "markdown",
   "id": "5b716964",
   "metadata": {},
   "source": [
    "### C) customer_zip_code :"
   ]
  },
  {
   "cell_type": "markdown",
   "id": "0377821d",
   "metadata": {},
   "source": [
    "- **Total unique zip code :**"
   ]
  },
  {
   "cell_type": "code",
   "execution_count": 74,
   "id": "43edcfb5",
   "metadata": {},
   "outputs": [
    {
     "data": {
      "text/plain": [
       "14994"
      ]
     },
     "execution_count": 74,
     "metadata": {},
     "output_type": "execute_result"
    }
   ],
   "source": [
    "x = df[\"customer_zip_code\"].nunique()\n",
    "x"
   ]
  },
  {
   "cell_type": "markdown",
   "id": "04e112fb",
   "metadata": {},
   "source": [
    "### D) Customer city"
   ]
  },
  {
   "cell_type": "markdown",
   "id": "cc51fb16",
   "metadata": {},
   "source": [
    "- **Total Customer cities**"
   ]
  },
  {
   "cell_type": "code",
   "execution_count": 75,
   "id": "2dafa0a8",
   "metadata": {},
   "outputs": [
    {
     "data": {
      "text/plain": [
       "4119"
      ]
     },
     "execution_count": 75,
     "metadata": {},
     "output_type": "execute_result"
    }
   ],
   "source": [
    "df[\"customer_city\"].nunique()"
   ]
  },
  {
   "cell_type": "markdown",
   "id": "d7c0c37d",
   "metadata": {},
   "source": [
    "- **Top 10 city by higher number of customers**"
   ]
  },
  {
   "cell_type": "code",
   "execution_count": 76,
   "id": "a1679fe1",
   "metadata": {
    "scrolled": true
   },
   "outputs": [
    {
     "data": {
      "text/plain": [
       "sao paulo                18648\n",
       "rio de janeiro            8235\n",
       "belo horizonte            3277\n",
       "brasilia                  2482\n",
       "curitiba                  1817\n",
       "campinas                  1737\n",
       "porto alegre              1666\n",
       "salvador                  1516\n",
       "guarulhos                 1410\n",
       "sao bernardo do campo     1117\n",
       "Name: customer_city, dtype: int64"
      ]
     },
     "execution_count": 76,
     "metadata": {},
     "output_type": "execute_result"
    }
   ],
   "source": [
    "df[\"customer_city\"].value_counts().sort_values(ascending = False).head(10)"
   ]
  },
  {
   "cell_type": "code",
   "execution_count": 77,
   "id": "d58ee53c",
   "metadata": {},
   "outputs": [
    {
     "data": {
      "image/png": "[encoded data removed]",
      "text/plain": [
       "<Figure size 1000x600 with 1 Axes>"
      ]
     },
     "metadata": {},
     "output_type": "display_data"
    }
   ],
   "source": [
    "# Plot the countplot for the top 5 cities directly\n",
    "plt.figure(figsize=(10, 6))\n",
    "sns.countplot(x=df['customer_city'], order=df['customer_city'].value_counts().nlargest(5).index, palette='viridis')\n",
    "plt.title('Order Counts by City (Top 5)')\n",
    "plt.xlabel('Customer City')\n",
    "plt.ylabel('Number of Orders')\n",
    "\n",
    "# Show the plot\n",
    "plt.show()"
   ]
  },
  {
   "cell_type": "markdown",
   "id": "3a640a16",
   "metadata": {},
   "source": [
    "### E) Customer states"
   ]
  },
  {
   "cell_type": "markdown",
   "id": "be863a43",
   "metadata": {},
   "source": [
    "- **Total unique states:**"
   ]
  },
  {
   "cell_type": "code",
   "execution_count": 78,
   "id": "4e1d7dbf",
   "metadata": {},
   "outputs": [
    {
     "data": {
      "text/plain": [
       "27"
      ]
     },
     "execution_count": 78,
     "metadata": {},
     "output_type": "execute_result"
    }
   ],
   "source": [
    "df[\"customer_state\"].nunique()"
   ]
  },
  {
   "cell_type": "markdown",
   "id": "05fa889f",
   "metadata": {},
   "source": [
    "- **Top 10 cities by order counts:**"
   ]
  },
  {
   "cell_type": "code",
   "execution_count": 79,
   "id": "3842003b",
   "metadata": {},
   "outputs": [
    {
     "data": {
      "text/plain": [
       "sao paulo                18648\n",
       "rio de janeiro            8235\n",
       "belo horizonte            3277\n",
       "brasilia                  2482\n",
       "curitiba                  1817\n",
       "campinas                  1737\n",
       "porto alegre              1666\n",
       "salvador                  1516\n",
       "guarulhos                 1410\n",
       "sao bernardo do campo     1117\n",
       "Name: customer_city, dtype: int64"
      ]
     },
     "execution_count": 79,
     "metadata": {},
     "output_type": "execute_result"
    }
   ],
   "source": [
    "df[\"customer_city\"].value_counts().sort_values(ascending=False).head(10)"
   ]
  },
  {
   "cell_type": "code",
   "execution_count": 80,
   "id": "5a2cc135",
   "metadata": {},
   "outputs": [
    {
     "data": {
      "text/plain": [
       "SP    49728\n",
       "RJ    15391\n",
       "MG    13714\n",
       "RS     6499\n",
       "PR     5996\n",
       "SC     4327\n",
       "BA     4034\n",
       "DF     2498\n",
       "GO     2435\n",
       "ES     2348\n",
       "Name: customer_state, dtype: int64"
      ]
     },
     "execution_count": 80,
     "metadata": {},
     "output_type": "execute_result"
    }
   ],
   "source": [
    "df[\"customer_state\"].value_counts().sort_values(ascending=False).head(10)"
   ]
  },
  {
   "cell_type": "code",
   "execution_count": 81,
   "id": "d3d1ed34",
   "metadata": {},
   "outputs": [
    {
     "data": {
      "image/png": "[encoded data removed]",
      "text/plain": [
       "<Figure size 1000x600 with 1 Axes>"
      ]
     },
     "metadata": {},
     "output_type": "display_data"
    }
   ],
   "source": [
    "top_states = df['customer_state'].value_counts().nlargest(5).index\n",
    "df_top_states = df[df['customer_state'].isin(top_states)]\n",
    "plt.figure(figsize=(10, 6))\n",
    "sns.countplot(data=df_top_states, x='customer_state', order=top_states, palette='viridis')\n",
    "plt.title('Order Counts by State (Top 5)')\n",
    "plt.xlabel('Customer State')\n",
    "plt.ylabel('Number of Orders')\n",
    "plt.savefig('order_Customer_states.png', bbox_inches='tight')\n",
    "plt.show()"
   ]
  },
  {
   "cell_type": "markdown",
   "id": "e3232429",
   "metadata": {},
   "source": [
    "### F) Order id"
   ]
  },
  {
   "cell_type": "markdown",
   "id": "b5b35570",
   "metadata": {},
   "source": [
    "- **Total Orders:**"
   ]
  },
  {
   "cell_type": "code",
   "execution_count": 82,
   "id": "c954f3a0",
   "metadata": {},
   "outputs": [
    {
     "data": {
      "text/plain": [
       "118018"
      ]
     },
     "execution_count": 82,
     "metadata": {},
     "output_type": "execute_result"
    }
   ],
   "source": [
    "df[\"order_id\"].count()"
   ]
  },
  {
   "cell_type": "markdown",
   "id": "36967746",
   "metadata": {},
   "source": [
    "### G) Order status"
   ]
  },
  {
   "cell_type": "markdown",
   "id": "31154786",
   "metadata": {},
   "source": [
    "- **Total order status:**"
   ]
  },
  {
   "cell_type": "code",
   "execution_count": 83,
   "id": "91cae773",
   "metadata": {},
   "outputs": [
    {
     "data": {
      "text/plain": [
       "array(['delivered', 'canceled', 'invoiced', 'shipped', 'processing',\n",
       "       'unavailable', 'approved', 'created'], dtype=object)"
      ]
     },
     "execution_count": 83,
     "metadata": {},
     "output_type": "execute_result"
    }
   ],
   "source": [
    "df[\"order_status\"].unique()"
   ]
  },
  {
   "cell_type": "markdown",
   "id": "d11fa080",
   "metadata": {},
   "source": [
    "- **Distribution of order status:**"
   ]
  },
  {
   "cell_type": "code",
   "execution_count": 84,
   "id": "da87ac42",
   "metadata": {},
   "outputs": [
    {
     "data": {
      "text/plain": [
       "delivered      114641\n",
       "shipped          1245\n",
       "canceled          735\n",
       "unavailable       642\n",
       "invoiced          377\n",
       "processing        370\n",
       "created             5\n",
       "approved            3\n",
       "Name: order_status, dtype: int64"
      ]
     },
     "execution_count": 84,
     "metadata": {},
     "output_type": "execute_result"
    }
   ],
   "source": [
    "x = df[\"order_status\"].value_counts()\n",
    "x"
   ]
  },
  {
   "cell_type": "code",
   "execution_count": 85,
   "id": "80ebb330",
   "metadata": {},
   "outputs": [
    {
     "data": {
      "text/plain": [
       "<AxesSubplot:xlabel='count', ylabel='order_status'>"
      ]
     },
     "execution_count": 85,
     "metadata": {},
     "output_type": "execute_result"
    },
    {
     "data": {
      "image/png": "[encoded data removed]",
      "text/plain": [
       "<Figure size 640x480 with 1 Axes>"
      ]
     },
     "metadata": {},
     "output_type": "display_data"
    }
   ],
   "source": [
    "sns.countplot(data=df, y='order_status', order=df[\"order_status\"].value_counts().index)"
   ]
  },
  {
   "cell_type": "markdown",
   "id": "6737552d",
   "metadata": {},
   "source": [
    "- **Distribution of order status in (%):**"
   ]
  },
  {
   "cell_type": "code",
   "execution_count": 86,
   "id": "7619bb1e",
   "metadata": {},
   "outputs": [
    {
     "data": {
      "text/plain": [
       "delivered      97.138572\n",
       "shipped         1.054924\n",
       "canceled        0.622786\n",
       "unavailable     0.543985\n",
       "invoiced        0.319443\n",
       "processing      0.313511\n",
       "created         0.004237\n",
       "approved        0.002542\n",
       "Name: order_status, dtype: float64"
      ]
     },
     "execution_count": 86,
     "metadata": {},
     "output_type": "execute_result"
    }
   ],
   "source": [
    "x = df[\"order_status\"].value_counts()\n",
    "y = df[\"order_status\"].value_counts().sum()\n",
    "\n",
    "z = (x/y)*100\n",
    "z"
   ]
  },
  {
   "cell_type": "markdown",
   "id": "9ab2dabb",
   "metadata": {},
   "source": [
    "- By the time this dataset was created, the highest amount of orders went from delivered ones. Only 3% of all orders came from the other status."
   ]
  },
  {
   "cell_type": "markdown",
   "id": "018c97f5",
   "metadata": {},
   "source": [
    "- **Top 5 product categories for canceled orders:**"
   ]
  },
  {
   "cell_type": "code",
   "execution_count": 87,
   "id": "7a9d1be3",
   "metadata": {},
   "outputs": [
    {
     "name": "stdout",
     "output_type": "stream",
     "text": [
      "Top 5 Product Categories for Canceled Orders:\n",
      "        Product Category  Order Count\n",
      "47               missing          184\n",
      "32   Household Utilities           59\n",
      "42    Sports and Leisure           52\n",
      "10  Computer Accessories           46\n",
      "5      Beauty and Health           40\n"
     ]
    }
   ],
   "source": [
    "# Filter the dataset for 'canceled' orders\n",
    "canceled_orders = df[df['order_status'] == 'canceled']\n",
    "\n",
    "# Group by product category and count the orders\n",
    "top_products_canceled = canceled_orders.groupby('Product_category name_english')['order_id'].count().reset_index()\n",
    "\n",
    "# Sort by order count in descending order and get the top 5\n",
    "top_products_canceled = top_products_canceled.sort_values(by='order_id', ascending=False).head(5)\n",
    "\n",
    "# Rename the columns for clarity\n",
    "top_products_canceled.columns = ['Product Category', 'Order Count']\n",
    "\n",
    "# Display the result\n",
    "print(\"Top 5 Product Categories for Canceled Orders:\")\n",
    "print(top_products_canceled)\n"
   ]
  },
  {
   "cell_type": "markdown",
   "id": "a3cd87ce",
   "metadata": {},
   "source": [
    "- **Top 5 product categories for unavailable orders:**"
   ]
  },
  {
   "cell_type": "code",
   "execution_count": 88,
   "id": "f0f69ea5",
   "metadata": {},
   "outputs": [
    {
     "name": "stdout",
     "output_type": "stream",
     "text": [
      "\n",
      "Top 3 Product Categories for Unavailable Orders:\n",
      "  Product Category  Order Count\n",
      "5          missing          635\n",
      "1           Babies            2\n",
      "4         Perfumes            2\n",
      "0       Automotive            1\n",
      "2       Cool Stuff            1\n"
     ]
    }
   ],
   "source": [
    "# Filter the dataset for 'unavailable' orders\n",
    "unavailable_orders = df[df['order_status'] == 'unavailable']\n",
    "\n",
    "# Group by product category and count the orders\n",
    "top_products_unavailable = unavailable_orders.groupby('Product_category name_english')['order_id'].count().reset_index()\n",
    "\n",
    "# Sort by order count in descending order and get the top 3\n",
    "top_products_unavailable = top_products_unavailable.sort_values(by='order_id', ascending=False).head(5)\n",
    "\n",
    "# Rename the columns for clarity\n",
    "top_products_unavailable.columns = ['Product Category', 'Order Count']\n",
    "\n",
    "# Display the result\n",
    "print(\"\\nTop 3 Product Categories for Unavailable Orders:\")\n",
    "print(top_products_unavailable)\n"
   ]
  },
  {
   "cell_type": "markdown",
   "id": "ac3894d5",
   "metadata": {},
   "source": [
    "### H) Order purchase date"
   ]
  },
  {
   "cell_type": "markdown",
   "id": "345911f2",
   "metadata": {},
   "source": [
    "- **First purchased order date and time:**"
   ]
  },
  {
   "cell_type": "code",
   "execution_count": 89,
   "id": "a17b319d",
   "metadata": {},
   "outputs": [
    {
     "data": {
      "text/plain": [
       "Timestamp('2016-09-04 21:15:19')"
      ]
     },
     "execution_count": 89,
     "metadata": {},
     "output_type": "execute_result"
    }
   ],
   "source": [
    "df[\"order_purchase_date\"].min()"
   ]
  },
  {
   "cell_type": "markdown",
   "id": "4519a9a6",
   "metadata": {},
   "source": [
    "- **Last purchased order date and time:**"
   ]
  },
  {
   "cell_type": "code",
   "execution_count": 90,
   "id": "7cbee047",
   "metadata": {},
   "outputs": [
    {
     "data": {
      "text/plain": [
       "Timestamp('2018-10-17 17:30:18')"
      ]
     },
     "execution_count": 90,
     "metadata": {},
     "output_type": "execute_result"
    }
   ],
   "source": [
    "df[\"order_purchase_date\"].max()"
   ]
  },
  {
   "cell_type": "markdown",
   "id": "88268f5d",
   "metadata": {},
   "source": [
    "- **Total order purchased per month:**"
   ]
  },
  {
   "cell_type": "code",
   "execution_count": 91,
   "id": "4dd34bcb",
   "metadata": {},
   "outputs": [
    {
     "data": {
      "text/plain": [
       "2017-11    9085\n",
       "2018-01    8580\n",
       "2018-03    8553\n",
       "2018-04    8235\n",
       "2018-05    8196\n",
       "2018-02    7971\n",
       "2018-08    7488\n",
       "2018-06    7342\n",
       "2018-07    7333\n",
       "2017-12    6605\n",
       "2017-10    5629\n",
       "2017-08    5173\n",
       "2017-09    5119\n",
       "2017-07    4854\n",
       "2017-05    4435\n",
       "2017-06    3812\n",
       "2017-03    3216\n",
       "2017-04    2856\n",
       "2017-02    2092\n",
       "2017-01    1020\n",
       "2016-10     396\n",
       "2018-09      16\n",
       "2016-09       7\n",
       "2018-10       4\n",
       "2016-12       1\n",
       "Freq: M, Name: order_purchase_date, dtype: int64"
      ]
     },
     "execution_count": 91,
     "metadata": {},
     "output_type": "execute_result"
    }
   ],
   "source": [
    "x_m= df[\"order_purchase_date\"].dt.to_period(\"M\").value_counts().sort_values(ascending = False)\n",
    "x_m"
   ]
  },
  {
   "cell_type": "markdown",
   "id": "5d904dea",
   "metadata": {},
   "source": [
    "- **Total order purchased per year:**"
   ]
  },
  {
   "cell_type": "code",
   "execution_count": 92,
   "id": "27e9b46d",
   "metadata": {},
   "outputs": [
    {
     "data": {
      "text/plain": [
       "2018    63718\n",
       "2017    53896\n",
       "2016      404\n",
       "Freq: A-DEC, Name: order_purchase_date, dtype: int64"
      ]
     },
     "execution_count": 92,
     "metadata": {},
     "output_type": "execute_result"
    }
   ],
   "source": [
    "x= df[\"order_purchase_date\"].dt.to_period(\"Y\").value_counts().sort_values(ascending=False)\n",
    "x"
   ]
  },
  {
   "cell_type": "markdown",
   "id": "fb3165d6",
   "metadata": {},
   "source": [
    "- **Total orders by time of a day**"
   ]
  },
  {
   "cell_type": "code",
   "execution_count": 93,
   "id": "3e44f39d",
   "metadata": {},
   "outputs": [
    {
     "data": {
      "text/plain": [
       "Early Morning     5646\n",
       "Morning          26356\n",
       "Afternoon        45815\n",
       "Night            40201\n",
       "Name: time_of_day, dtype: int64"
      ]
     },
     "execution_count": 93,
     "metadata": {},
     "output_type": "execute_result"
    }
   ],
   "source": [
    "# Extract the hour from order_purchase_date\n",
    "df['order_hour'] = df['order_purchase_date'].dt.hour\n",
    "\n",
    "# Categorize time of day based on the hour\n",
    "time_bins = [0, 6, 12, 18, 24]\n",
    "time_labels = ['Early Morning', 'Morning', 'Afternoon', 'Night']\n",
    "df['time_of_day'] = pd.cut(df['order_hour'], bins=time_bins, labels=time_labels, right=False)\n",
    "\n",
    "# Count the number of orders for each time period\n",
    "orders_by_time_of_day = df['time_of_day'].value_counts().reindex(time_labels)\n",
    "orders_by_time_of_day"
   ]
  },
  {
   "cell_type": "code",
   "execution_count": 94,
   "id": "ee59bf32",
   "metadata": {},
   "outputs": [
    {
     "data": {
      "image/png": "[encoded data removed]",
      "text/plain": [
       "<Figure size 640x480 with 1 Axes>"
      ]
     },
     "metadata": {},
     "output_type": "display_data"
    }
   ],
   "source": [
    "# Plot the distribution\n",
    "sns.barplot(x=orders_by_time_of_day.index, y=orders_by_time_of_day.values, color='skyblue')\n",
    "plt.title('Distribution of Orders by Time of Day')\n",
    "plt.xlabel('Time of Day')\n",
    "plt.ylabel('Number of Orders')\n",
    "plt.savefig('orders_count_by_time.png', bbox_inches='tight')\n",
    "plt.show()"
   ]
  },
  {
   "cell_type": "code",
   "execution_count": 95,
   "id": "9469c6b5",
   "metadata": {},
   "outputs": [],
   "source": [
    "# Group by 'time_of_day' and 'Product_category name_english', count the orders\n",
    "top_3_products_by_time = df.groupby(['time_of_day', 'Product_category name_english']).size().reset_index(name='order_count')"
   ]
  },
  {
   "cell_type": "code",
   "execution_count": 96,
   "id": "67cdf427",
   "metadata": {},
   "outputs": [
    {
     "name": "stdout",
     "output_type": "stream",
     "text": [
      "\n",
      "Top 3 product categories in Early Morning:\n",
      "      time_of_day Product_category name_english  order_count\n",
      "8   Early Morning  Bedding, Tableware, and Bath          563\n",
      "22  Early Morning          Decorative Furniture          465\n",
      "7   Early Morning             Beauty and Health          462\n",
      "\n",
      "Top 3 product categories in Morning:\n",
      "   time_of_day Product_category name_english  order_count\n",
      "81     Morning  Bedding, Tableware, and Bath         2395\n",
      "80     Morning             Beauty and Health         2183\n",
      "87     Morning          Computer Accessories         2043\n",
      "\n",
      "Top 3 product categories in Afternoon:\n",
      "    time_of_day Product_category name_english  order_count\n",
      "154   Afternoon  Bedding, Tableware, and Bath         4448\n",
      "153   Afternoon             Beauty and Health         3861\n",
      "210   Afternoon            Sports and Leisure         3470\n",
      "\n",
      "Top 3 product categories in Night:\n",
      "    time_of_day Product_category name_english  order_count\n",
      "227       Night  Bedding, Tableware, and Bath         4114\n",
      "226       Night             Beauty and Health         3362\n",
      "241       Night          Decorative Furniture         3119\n"
     ]
    }
   ],
   "source": [
    "# Use a loop to get the top 3 products for each time period and print them\n",
    "for time_period in ['Early Morning', 'Morning', 'Afternoon', 'Night']:\n",
    "    top_3 = top_3_products_by_time[top_3_products_by_time['time_of_day'] == time_period] \\\n",
    "                .nlargest(3, 'order_count')\n",
    "    print(f\"\\nTop 3 product categories in {time_period}:\")\n",
    "    print(top_3)"
   ]
  },
  {
   "cell_type": "markdown",
   "id": "856f89f0",
   "metadata": {},
   "source": [
    "### I) Order approved date"
   ]
  },
  {
   "cell_type": "markdown",
   "id": "f8fa81e6",
   "metadata": {},
   "source": [
    "- **Order approval rate( in %):**"
   ]
  },
  {
   "cell_type": "code",
   "execution_count": 97,
   "id": "83e54d4f",
   "metadata": {},
   "outputs": [
    {
     "data": {
      "text/plain": [
       "99.87205341558068"
      ]
     },
     "execution_count": 97,
     "metadata": {},
     "output_type": "execute_result"
    }
   ],
   "source": [
    "x = df[\"order_purchase_date\"].count()\n",
    "y = df[\"order_approved_date\"].count()\n",
    "\n",
    "z = (y/(x))*100\n",
    "z"
   ]
  },
  {
   "cell_type": "markdown",
   "id": "5953c9b5",
   "metadata": {},
   "source": [
    "### J) Order delivery to carrier date"
   ]
  },
  {
   "cell_type": "markdown",
   "id": "7740e356",
   "metadata": {},
   "source": [
    "- **Order delivery to carrier conv. rate( in %) after order purchase:**"
   ]
  },
  {
   "cell_type": "code",
   "execution_count": 98,
   "id": "b2f2f9af",
   "metadata": {},
   "outputs": [
    {
     "data": {
      "text/plain": [
       "98.26043484892135"
      ]
     },
     "execution_count": 98,
     "metadata": {},
     "output_type": "execute_result"
    }
   ],
   "source": [
    "a = df['order_delivered_carrier_date'].count()\n",
    "\n",
    "b = (a/x)*100\n",
    "b"
   ]
  },
  {
   "cell_type": "markdown",
   "id": "883853b6",
   "metadata": {},
   "source": [
    "- **Order delivery to carrier rate( in %) after order approved:**"
   ]
  },
  {
   "cell_type": "code",
   "execution_count": 99,
   "id": "1878a4ff",
   "metadata": {},
   "outputs": [
    {
     "data": {
      "text/plain": [
       "98.38631678077834"
      ]
     },
     "execution_count": 99,
     "metadata": {},
     "output_type": "execute_result"
    }
   ],
   "source": [
    "c = (a/y)*100\n",
    "c"
   ]
  },
  {
   "cell_type": "markdown",
   "id": "9d0df7fa",
   "metadata": {},
   "source": [
    "### K) Order delivery to customer date"
   ]
  },
  {
   "cell_type": "markdown",
   "id": "2fa900a4",
   "metadata": {},
   "source": [
    "- **Order delivery to customer rate( in %) after order purchased:**"
   ]
  },
  {
   "cell_type": "code",
   "execution_count": 100,
   "id": "9bd643d9",
   "metadata": {},
   "outputs": [
    {
     "data": {
      "text/plain": [
       "97.1445033808402"
      ]
     },
     "execution_count": 100,
     "metadata": {},
     "output_type": "execute_result"
    }
   ],
   "source": [
    "c = df['order_delivered_customer_date'].count()\n",
    "\n",
    "d = (c/x)*100\n",
    "d"
   ]
  },
  {
   "cell_type": "markdown",
   "id": "e6e2961c",
   "metadata": {},
   "source": [
    "### L) Order payment type"
   ]
  },
  {
   "cell_type": "markdown",
   "id": "d2693c60",
   "metadata": {},
   "source": [
    "- **Total Options for Payment:**"
   ]
  },
  {
   "cell_type": "code",
   "execution_count": 101,
   "id": "402c0f3c",
   "metadata": {},
   "outputs": [
    {
     "data": {
      "text/plain": [
       "5"
      ]
     },
     "execution_count": 101,
     "metadata": {},
     "output_type": "execute_result"
    }
   ],
   "source": [
    "df[\"order_payment_type\"].nunique()"
   ]
  },
  {
   "cell_type": "markdown",
   "id": "178c9168",
   "metadata": {},
   "source": [
    "- **Order distrbution by payment type:**"
   ]
  },
  {
   "cell_type": "code",
   "execution_count": 102,
   "id": "0fa28894",
   "metadata": {},
   "outputs": [
    {
     "data": {
      "text/plain": [
       "credit_card    87461\n",
       "boleto         23102\n",
       "voucher         5753\n",
       "debit_card      1699\n",
       "not_defined        3\n",
       "Name: order_payment_type, dtype: int64"
      ]
     },
     "execution_count": 102,
     "metadata": {},
     "output_type": "execute_result"
    }
   ],
   "source": [
    "df[\"order_payment_type\"].value_counts()"
   ]
  },
  {
   "cell_type": "code",
   "execution_count": 103,
   "id": "9d1a0ec5",
   "metadata": {},
   "outputs": [
    {
     "data": {
      "image/png": "[encoded data removed]",
      "text/plain": [
       "<Figure size 640x480 with 1 Axes>"
      ]
     },
     "metadata": {},
     "output_type": "display_data"
    }
   ],
   "source": [
    "sns.countplot(data=df, x=df[\"order_payment_type\"],order=df[\"order_payment_type\"].value_counts().index)\n",
    "plt.savefig('order_payment_type.png', bbox_inches='tight')"
   ]
  },
  {
   "cell_type": "markdown",
   "id": "b51a7edd",
   "metadata": {},
   "source": [
    "- **Order distrbution by payment type (in %):**"
   ]
  },
  {
   "cell_type": "code",
   "execution_count": 104,
   "id": "ce6da97a",
   "metadata": {},
   "outputs": [
    {
     "data": {
      "text/plain": [
       "credit_card    74.108187\n",
       "boleto         19.574980\n",
       "voucher         4.874680\n",
       "debit_card      1.439611\n",
       "not_defined     0.002542\n",
       "Name: order_payment_type, dtype: float64"
      ]
     },
     "execution_count": 104,
     "metadata": {},
     "output_type": "execute_result"
    }
   ],
   "source": [
    "x= (df[\"order_payment_type\"].value_counts())/(df[\"order_payment_type\"].count())*100\n",
    "x"
   ]
  },
  {
   "cell_type": "markdown",
   "id": "538f1e88",
   "metadata": {},
   "source": [
    "### M) Payment installement"
   ]
  },
  {
   "cell_type": "markdown",
   "id": "d79735f1",
   "metadata": {},
   "source": [
    "- **Maximum installment recoreded by a customer:**"
   ]
  },
  {
   "cell_type": "code",
   "execution_count": 105,
   "id": "6b29ee36",
   "metadata": {},
   "outputs": [
    {
     "data": {
      "text/plain": [
       "24.0"
      ]
     },
     "execution_count": 105,
     "metadata": {},
     "output_type": "execute_result"
    }
   ],
   "source": [
    "df[\"payment_installments\"].max()"
   ]
  },
  {
   "cell_type": "markdown",
   "id": "a4d58cdf",
   "metadata": {},
   "source": [
    "- **Minimum installment recoreded by a customer:**"
   ]
  },
  {
   "cell_type": "code",
   "execution_count": 106,
   "id": "af576cad",
   "metadata": {},
   "outputs": [
    {
     "data": {
      "text/plain": [
       "0.0"
      ]
     },
     "execution_count": 106,
     "metadata": {},
     "output_type": "execute_result"
    }
   ],
   "source": [
    "df[\"payment_installments\"].min()"
   ]
  },
  {
   "cell_type": "markdown",
   "id": "19c22a40",
   "metadata": {},
   "source": [
    "### N) Payment value"
   ]
  },
  {
   "cell_type": "code",
   "execution_count": 107,
   "id": "2e38c3d6",
   "metadata": {},
   "outputs": [
    {
     "data": {
      "text/plain": [
       "count    118018.000000\n",
       "mean        173.662360\n",
       "std         268.584479\n",
       "min           0.000000\n",
       "25%          61.580000\n",
       "50%         108.810000\n",
       "75%         189.855000\n",
       "max       13664.080000\n",
       "Name: payment_value, dtype: float64"
      ]
     },
     "execution_count": 107,
     "metadata": {},
     "output_type": "execute_result"
    }
   ],
   "source": [
    "df[\"payment_value\"].describe()"
   ]
  },
  {
   "cell_type": "code",
   "execution_count": 108,
   "id": "70434989",
   "metadata": {},
   "outputs": [
    {
     "data": {
      "text/plain": [
       "20495284.41"
      ]
     },
     "execution_count": 108,
     "metadata": {},
     "output_type": "execute_result"
    }
   ],
   "source": [
    "df[\"payment_value\"].sum()"
   ]
  },
  {
   "cell_type": "markdown",
   "id": "90159c01",
   "metadata": {},
   "source": [
    "### O) Review score"
   ]
  },
  {
   "cell_type": "markdown",
   "id": "fda81439",
   "metadata": {},
   "source": [
    "- **Distribution of review score:** "
   ]
  },
  {
   "cell_type": "code",
   "execution_count": 109,
   "id": "a5964c57",
   "metadata": {},
   "outputs": [
    {
     "data": {
      "text/plain": [
       "5.0    65666\n",
       "4.0    22127\n",
       "1.0    15289\n",
       "3.0     9824\n",
       "2.0     4118\n",
       "0.0      994\n",
       "Name: review_score, dtype: int64"
      ]
     },
     "execution_count": 109,
     "metadata": {},
     "output_type": "execute_result"
    }
   ],
   "source": [
    "df[\"review_score\"].value_counts().sort_values(ascending=False)"
   ]
  },
  {
   "cell_type": "markdown",
   "id": "2b3ca61d",
   "metadata": {},
   "source": [
    "- **Distribution of review score in (%):** "
   ]
  },
  {
   "cell_type": "code",
   "execution_count": 110,
   "id": "9d9f585c",
   "metadata": {},
   "outputs": [
    {
     "data": {
      "text/plain": [
       "5.0    55.640665\n",
       "4.0    18.748835\n",
       "1.0    12.954804\n",
       "3.0     8.324154\n",
       "2.0     3.489298\n",
       "0.0     0.842244\n",
       "Name: review_score, dtype: float64"
      ]
     },
     "execution_count": 110,
     "metadata": {},
     "output_type": "execute_result"
    }
   ],
   "source": [
    "rs = df[\"review_score\"].value_counts()\n",
    "total = df[\"review_score\"].count()\n",
    "\n",
    "dist = (rs/total)*100\n",
    "dist"
   ]
  },
  {
   "cell_type": "code",
   "execution_count": 111,
   "id": "51a0a2b2",
   "metadata": {},
   "outputs": [
    {
     "data": {
      "text/plain": [
       "<AxesSubplot:xlabel='review_score', ylabel='count'>"
      ]
     },
     "execution_count": 111,
     "metadata": {},
     "output_type": "execute_result"
    },
    {
     "data": {
      "image/png": "[encoded data removed]",
      "text/plain": [
       "<Figure size 640x480 with 1 Axes>"
      ]
     },
     "metadata": {},
     "output_type": "display_data"
    }
   ],
   "source": [
    "sns.countplot(data=df,x=df[\"review_score\"])"
   ]
  },
  {
   "cell_type": "markdown",
   "id": "10f4b2a0",
   "metadata": {},
   "source": [
    "### P) Product ID"
   ]
  },
  {
   "cell_type": "markdown",
   "id": "56fd40eb",
   "metadata": {},
   "source": [
    "- **Total Unique products:**"
   ]
  },
  {
   "cell_type": "code",
   "execution_count": 112,
   "id": "b7a8e2a7",
   "metadata": {},
   "outputs": [
    {
     "data": {
      "text/plain": [
       "32952"
      ]
     },
     "execution_count": 112,
     "metadata": {},
     "output_type": "execute_result"
    }
   ],
   "source": [
    "df[\"product_id\"].nunique()"
   ]
  },
  {
   "cell_type": "markdown",
   "id": "6d29d669",
   "metadata": {},
   "source": [
    "### P) Seller ID"
   ]
  },
  {
   "cell_type": "markdown",
   "id": "8a65a44b",
   "metadata": {},
   "source": [
    "- **Total unique seller:**"
   ]
  },
  {
   "cell_type": "code",
   "execution_count": 113,
   "id": "bc3df0b5",
   "metadata": {},
   "outputs": [
    {
     "data": {
      "text/plain": [
       "3096"
      ]
     },
     "execution_count": 113,
     "metadata": {},
     "output_type": "execute_result"
    }
   ],
   "source": [
    "df[\"seller_id\"].nunique()"
   ]
  },
  {
   "cell_type": "markdown",
   "id": "1f7bf0aa",
   "metadata": {},
   "source": [
    "### Q) Price, Freight value"
   ]
  },
  {
   "cell_type": "markdown",
   "id": "86dfed89",
   "metadata": {},
   "source": [
    "- **Total sales (in $):**"
   ]
  },
  {
   "cell_type": "code",
   "execution_count": 114,
   "id": "69623195",
   "metadata": {},
   "outputs": [
    {
     "data": {
      "text/plain": [
       "16497138.25"
      ]
     },
     "execution_count": 114,
     "metadata": {},
     "output_type": "execute_result"
    }
   ],
   "source": [
    "pc = df[\"price\"].sum()\n",
    "fv = df[\"freight_value\"].sum()\n",
    "pc + fv"
   ]
  },
  {
   "cell_type": "markdown",
   "id": "139d0088",
   "metadata": {},
   "source": [
    "### R) Product category"
   ]
  },
  {
   "cell_type": "markdown",
   "id": "04d2783d",
   "metadata": {},
   "source": [
    "- **Total Product_categories count:**"
   ]
  },
  {
   "cell_type": "code",
   "execution_count": 115,
   "id": "1d041dca",
   "metadata": {},
   "outputs": [
    {
     "data": {
      "text/plain": [
       "73"
      ]
     },
     "execution_count": 115,
     "metadata": {},
     "output_type": "execute_result"
    }
   ],
   "source": [
    "df[\"Product_category name_english\"].nunique()"
   ]
  },
  {
   "cell_type": "markdown",
   "id": "59e783c3",
   "metadata": {},
   "source": [
    "**Product category distribution:** "
   ]
  },
  {
   "cell_type": "code",
   "execution_count": 116,
   "id": "83c94fd4",
   "metadata": {},
   "outputs": [
    {
     "data": {
      "text/plain": [
       "Bedding, Tableware, and Bath    11520\n",
       "Beauty and Health                9868\n",
       "Sports and Leisure               8867\n",
       "Decorative Furniture             8679\n",
       "Computer Accessories             7900\n",
       "Household Utilities              7279\n",
       "Watches and Gifts                5959\n",
       "Telephony                        4654\n",
       "Automotive                       4345\n",
       "Toys                             4184\n",
       "Name: Product_category name_english, dtype: int64"
      ]
     },
     "execution_count": 116,
     "metadata": {},
     "output_type": "execute_result"
    }
   ],
   "source": [
    "df[\"Product_category name_english\"].value_counts().sort_values(ascending=False).head(10)"
   ]
  },
  {
   "cell_type": "code",
   "execution_count": 117,
   "id": "6280c110",
   "metadata": {},
   "outputs": [
    {
     "data": {
      "image/png": "[encoded data removed]",
      "text/plain": [
       "<Figure size 640x480 with 1 Axes>"
      ]
     },
     "metadata": {},
     "output_type": "display_data"
    }
   ],
   "source": [
    "df[\"Product_category name_english\"].value_counts().sort_values(ascending=False).head(10).plot(kind='barh', color='skyblue')\n",
    "\n",
    "plt.title('Top 10 Product Categories by Order Count')\n",
    "plt.xlabel('Order Count')\n",
    "plt.ylabel('Product Category')\n",
    "\n",
    "plt.savefig('top_10_product_categories_by_order_count.png', format='png', dpi=300, bbox_inches='tight')\n",
    "\n",
    "plt.show()\n"
   ]
  },
  {
   "cell_type": "markdown",
   "id": "0eab0c6c",
   "metadata": {},
   "source": [
    "### S) Seller city"
   ]
  },
  {
   "cell_type": "code",
   "execution_count": 118,
   "id": "6198aace",
   "metadata": {},
   "outputs": [
    {
     "data": {
      "text/plain": [
       "610"
      ]
     },
     "execution_count": 118,
     "metadata": {},
     "output_type": "execute_result"
    }
   ],
   "source": [
    "df[\"seller_city\"].nunique()"
   ]
  },
  {
   "cell_type": "code",
   "execution_count": 119,
   "id": "9d2bf0e2",
   "metadata": {},
   "outputs": [
    {
     "data": {
      "text/plain": [
       "sao paulo                29063\n",
       "ibitinga                  8244\n",
       "curitiba                  3138\n",
       "santo andre               3101\n",
       "belo horizonte            2673\n",
       "sao jose do rio preto     2668\n",
       "rio de janeiro            2521\n",
       "guarulhos                 2437\n",
       "ribeirao preto            2348\n",
       "maringa                   2273\n",
       "Name: seller_city, dtype: int64"
      ]
     },
     "execution_count": 119,
     "metadata": {},
     "output_type": "execute_result"
    }
   ],
   "source": [
    "df[\"seller_city\"].value_counts().sort_values(ascending=False).head(10)"
   ]
  },
  {
   "cell_type": "code",
   "execution_count": 120,
   "id": "d246879e",
   "metadata": {},
   "outputs": [
    {
     "data": {
      "text/plain": [
       "sao paulo                24.796724\n",
       "ibitinga                  7.033830\n",
       "curitiba                  2.677360\n",
       "santo andre               2.645792\n",
       "belo horizonte            2.280619\n",
       "sao jose do rio preto     2.276353\n",
       "rio de janeiro            2.150932\n",
       "guarulhos                 2.079263\n",
       "ribeirao preto            2.003328\n",
       "maringa                   1.939337\n",
       "Name: seller_city, dtype: float64"
      ]
     },
     "execution_count": 120,
     "metadata": {},
     "output_type": "execute_result"
    }
   ],
   "source": [
    "pc = df[\"seller_city\"].value_counts()\n",
    "pc_all = df[\"seller_city\"].count()\n",
    "((pc/pc_all)*100).sort_values(ascending=False).head(10)"
   ]
  },
  {
   "cell_type": "markdown",
   "id": "aeffd4b5",
   "metadata": {},
   "source": [
    "### T) Seller state"
   ]
  },
  {
   "cell_type": "code",
   "execution_count": 121,
   "id": "b7a49e3b",
   "metadata": {},
   "outputs": [
    {
     "data": {
      "text/plain": [
       "23"
      ]
     },
     "execution_count": 121,
     "metadata": {},
     "output_type": "execute_result"
    }
   ],
   "source": [
    "df[\"seller_state\"].nunique()"
   ]
  },
  {
   "cell_type": "code",
   "execution_count": 122,
   "id": "3e8b6878",
   "metadata": {},
   "outputs": [
    {
     "data": {
      "text/plain": [
       "SP    83601\n",
       "MG     9241\n",
       "PR     9018\n",
       "RJ     4976\n",
       "SC     4224\n",
       "RS     2278\n",
       "DF      935\n",
       "BA      678\n",
       "GO      548\n",
       "PE      465\n",
       "MA      409\n",
       "ES      387\n",
       "MT      147\n",
       "CE       99\n",
       "RN       56\n",
       "MS       51\n",
       "PB       44\n",
       "RO       14\n",
       "PI       12\n",
       "SE       10\n",
       "PA        8\n",
       "AM        3\n",
       "AC        1\n",
       "Name: seller_state, dtype: int64"
      ]
     },
     "execution_count": 122,
     "metadata": {},
     "output_type": "execute_result"
    }
   ],
   "source": [
    "df[\"seller_state\"].value_counts()"
   ]
  },
  {
   "cell_type": "markdown",
   "id": "3607b433",
   "metadata": {},
   "source": [
    "### U) Day of the week"
   ]
  },
  {
   "cell_type": "markdown",
   "id": "2d23f493",
   "metadata": {},
   "source": [
    "- **Total unique days:**"
   ]
  },
  {
   "cell_type": "code",
   "execution_count": 123,
   "id": "eb87e6a5",
   "metadata": {},
   "outputs": [
    {
     "data": {
      "text/plain": [
       "7"
      ]
     },
     "execution_count": 123,
     "metadata": {},
     "output_type": "execute_result"
    }
   ],
   "source": [
    "df[\"Day\"].nunique()"
   ]
  },
  {
   "cell_type": "markdown",
   "id": "6a08949d",
   "metadata": {},
   "source": [
    "- **Distirbution of orders by day:**"
   ]
  },
  {
   "cell_type": "code",
   "execution_count": 124,
   "id": "76d6729e",
   "metadata": {},
   "outputs": [
    {
     "data": {
      "text/plain": [
       "Mon    19195\n",
       "Tue    19102\n",
       "Wed    18468\n",
       "Thu    17654\n",
       "Fri    16845\n",
       "Sun    13974\n",
       "Sat    12780\n",
       "Name: Day, dtype: int64"
      ]
     },
     "execution_count": 124,
     "metadata": {},
     "output_type": "execute_result"
    }
   ],
   "source": [
    "df[\"Day\"].value_counts().sort_values(ascending=False).head(10)"
   ]
  },
  {
   "cell_type": "code",
   "execution_count": 125,
   "id": "9391c820",
   "metadata": {},
   "outputs": [
    {
     "data": {
      "text/plain": [
       "Mon    16.264468\n",
       "Tue    16.185667\n",
       "Wed    15.648460\n",
       "Thu    14.958735\n",
       "Fri    14.273246\n",
       "Sun    11.840567\n",
       "Sat    10.828857\n",
       "Name: Day, dtype: float64"
      ]
     },
     "execution_count": 125,
     "metadata": {},
     "output_type": "execute_result"
    }
   ],
   "source": [
    "d = df[\"Day\"].value_counts()\n",
    "d_all = df[\"Day\"].count()\n",
    "x = ((d/d_all)*100).sort_values(ascending=False).head(10)\n",
    "x"
   ]
  },
  {
   "cell_type": "code",
   "execution_count": 126,
   "id": "b8443c2b",
   "metadata": {},
   "outputs": [
    {
     "data": {
      "text/plain": [
       "<AxesSubplot:ylabel='Day'>"
      ]
     },
     "execution_count": 126,
     "metadata": {},
     "output_type": "execute_result"
    },
    {
     "data": {
      "image/png": "[encoded data removed]",
      "text/plain": [
       "<Figure size 640x480 with 1 Axes>"
      ]
     },
     "metadata": {},
     "output_type": "display_data"
    }
   ],
   "source": [
    "x.plot(kind=\"pie\",autopct=\"%0.1f%%\")"
   ]
  },
  {
   "cell_type": "markdown",
   "id": "648033e7",
   "metadata": {},
   "source": [
    "### V) weekend or weekday"
   ]
  },
  {
   "cell_type": "code",
   "execution_count": 127,
   "id": "9d79d864",
   "metadata": {},
   "outputs": [
    {
     "data": {
      "text/plain": [
       "Weekday    91264\n",
       "Weekend    26754\n",
       "Name: week, dtype: int64"
      ]
     },
     "execution_count": 127,
     "metadata": {},
     "output_type": "execute_result"
    }
   ],
   "source": [
    "df[\"week\"].value_counts()"
   ]
  },
  {
   "cell_type": "code",
   "execution_count": 128,
   "id": "f2f26688",
   "metadata": {},
   "outputs": [
    {
     "data": {
      "text/plain": [
       "Weekday    77.330577\n",
       "Weekend    22.669423\n",
       "Name: week, dtype: float64"
      ]
     },
     "execution_count": 128,
     "metadata": {},
     "output_type": "execute_result"
    }
   ],
   "source": [
    "w = df[\"week\"].value_counts()\n",
    "w_all = df[\"week\"].count()\n",
    "x = ((w/w_all)*100)\n",
    "x"
   ]
  },
  {
   "cell_type": "code",
   "execution_count": 129,
   "id": "37073d49",
   "metadata": {},
   "outputs": [
    {
     "data": {
      "text/plain": [
       "<AxesSubplot:ylabel='week'>"
      ]
     },
     "execution_count": 129,
     "metadata": {},
     "output_type": "execute_result"
    },
    {
     "data": {
      "image/png": "[encoded data removed]",
      "text/plain": [
       "<Figure size 640x480 with 1 Axes>"
      ]
     },
     "metadata": {},
     "output_type": "display_data"
    }
   ],
   "source": [
    "x.plot(kind=\"pie\",autopct=\"%0.1f%%\")"
   ]
  },
  {
   "cell_type": "markdown",
   "id": "38c65e65",
   "metadata": {},
   "source": [
    "### W) Year"
   ]
  },
  {
   "cell_type": "code",
   "execution_count": 130,
   "id": "c6eac859",
   "metadata": {},
   "outputs": [
    {
     "data": {
      "text/plain": [
       "2018    63718\n",
       "2017    53896\n",
       "2016      404\n",
       "Name: Year, dtype: int64"
      ]
     },
     "execution_count": 130,
     "metadata": {},
     "output_type": "execute_result"
    }
   ],
   "source": [
    "df[\"Year\"].value_counts()"
   ]
  },
  {
   "cell_type": "code",
   "execution_count": 131,
   "id": "fca55340",
   "metadata": {},
   "outputs": [
    {
     "data": {
      "text/plain": [
       "<AxesSubplot:xlabel='Year', ylabel='count'>"
      ]
     },
     "execution_count": 131,
     "metadata": {},
     "output_type": "execute_result"
    },
    {
     "data": {
      "image/png": "[encoded data removed]",
      "text/plain": [
       "<Figure size 640x480 with 1 Axes>"
      ]
     },
     "metadata": {},
     "output_type": "display_data"
    }
   ],
   "source": [
    "sns.countplot(data=df, x=\"Year\")"
   ]
  },
  {
   "cell_type": "markdown",
   "id": "cfd4d621",
   "metadata": {},
   "source": [
    "### X) Month"
   ]
  },
  {
   "cell_type": "code",
   "execution_count": 132,
   "id": "0253e3fb",
   "metadata": {},
   "outputs": [
    {
     "data": {
      "text/plain": [
       "Aug    12661\n",
       "May    12631\n",
       "Jul    12187\n",
       "Mar    11769\n",
       "Jun    11154\n",
       "Apr    11091\n",
       "Feb    10063\n",
       "Jan     9600\n",
       "Nov     9085\n",
       "Dec     6606\n",
       "Oct     6029\n",
       "Sep     5142\n",
       "Name: Month, dtype: int64"
      ]
     },
     "execution_count": 132,
     "metadata": {},
     "output_type": "execute_result"
    }
   ],
   "source": [
    "df[\"Month\"].value_counts().sort_values(ascending=False)"
   ]
  },
  {
   "cell_type": "markdown",
   "id": "eb7e79b5",
   "metadata": {},
   "source": [
    "### Y) Quarter"
   ]
  },
  {
   "cell_type": "code",
   "execution_count": 133,
   "id": "ffc59c47",
   "metadata": {},
   "outputs": [
    {
     "data": {
      "text/plain": [
       "2    34876\n",
       "1    31432\n",
       "3    29990\n",
       "4    21720\n",
       "Name: Quarter, dtype: int64"
      ]
     },
     "execution_count": 133,
     "metadata": {},
     "output_type": "execute_result"
    }
   ],
   "source": [
    "df[\"Quarter\"].value_counts().sort_values(ascending=False)"
   ]
  },
  {
   "cell_type": "code",
   "execution_count": 134,
   "id": "58b3cb64",
   "metadata": {},
   "outputs": [
    {
     "data": {
      "text/plain": [
       "<AxesSubplot:xlabel='Quarter', ylabel='count'>"
      ]
     },
     "execution_count": 134,
     "metadata": {},
     "output_type": "execute_result"
    },
    {
     "data": {
      "image/png": "[encoded data removed]",
      "text/plain": [
       "<Figure size 640x480 with 1 Axes>"
      ]
     },
     "metadata": {},
     "output_type": "display_data"
    }
   ],
   "source": [
    "sns.countplot(data=df,x=df[\"Quarter\"])"
   ]
  },
  {
   "cell_type": "markdown",
   "id": "c2e634e7",
   "metadata": {},
   "source": [
    " "
   ]
  },
  {
   "cell_type": "markdown",
   "id": "159ff1f2",
   "metadata": {},
   "source": [
    "<div style=\"background-color: #E3F2FD; padding: 20px; border-radius: 10px;\">\n",
    "    <h1 style=\"color: #004D40; text-align: left; font-size: 1.5em;\">Exploratory data analysis - Bivariate</h1>\n",
    "</div>"
   ]
  },
  {
   "cell_type": "code",
   "execution_count": 135,
   "id": "a22b9ba5",
   "metadata": {},
   "outputs": [],
   "source": [
    "import matplotlib.pyplot as plt"
   ]
  },
  {
   "cell_type": "markdown",
   "id": "4bf195a2",
   "metadata": {},
   "source": [
    "### 1) Order status VS Review score"
   ]
  },
  {
   "cell_type": "code",
   "execution_count": 136,
   "id": "59e99371",
   "metadata": {},
   "outputs": [
    {
     "data": {
      "image/png": "[encoded data removed]",
      "text/plain": [
       "<Figure size 1200x600 with 1 Axes>"
      ]
     },
     "metadata": {},
     "output_type": "display_data"
    }
   ],
   "source": [
    "plt.figure(figsize=(12, 6))\n",
    "sns.violinplot(data=df, x='order_status', y='review_score')\n",
    "plt.title('Review Score Distribution by Order Status')\n",
    "plt.xlabel('Order Status')\n",
    "plt.ylabel('Review Score')\n",
    "plt.xticks(rotation=45)\n",
    "plt.savefig('review by order status.png', bbox_inches='tight')\n",
    "plt.show()"
   ]
  },
  {
   "cell_type": "markdown",
   "id": "29470deb",
   "metadata": {},
   "source": [
    " "
   ]
  },
  {
   "cell_type": "markdown",
   "id": "d782f34a",
   "metadata": {},
   "source": [
    "### 2) Order delay analysis"
   ]
  },
  {
   "cell_type": "code",
   "execution_count": 137,
   "id": "c3279a72",
   "metadata": {},
   "outputs": [
    {
     "data": {
      "text/plain": [
       "118018"
      ]
     },
     "execution_count": 137,
     "metadata": {},
     "output_type": "execute_result"
    }
   ],
   "source": [
    "len(df)"
   ]
  },
  {
   "cell_type": "code",
   "execution_count": 138,
   "id": "09646bcd",
   "metadata": {},
   "outputs": [],
   "source": [
    "df['delivery_delay'] = (df['order_delivered_customer_date'] - df['order_estimated_delivery_date']).dt.days"
   ]
  },
  {
   "cell_type": "code",
   "execution_count": 139,
   "id": "67af0ccd",
   "metadata": {},
   "outputs": [
    {
     "data": {
      "text/plain": [
       "7513"
      ]
     },
     "execution_count": 139,
     "metadata": {},
     "output_type": "execute_result"
    }
   ],
   "source": [
    "late_deliveries = len(df[df['delivery_delay'] > 0])\n",
    "late_deliveries"
   ]
  },
  {
   "cell_type": "code",
   "execution_count": 140,
   "id": "858b11bb",
   "metadata": {},
   "outputs": [
    {
     "data": {
      "text/plain": [
       "105643"
      ]
     },
     "execution_count": 140,
     "metadata": {},
     "output_type": "execute_result"
    }
   ],
   "source": [
    "early_deliveries = len(df[df['delivery_delay'] < 0])\n",
    "early_deliveries"
   ]
  },
  {
   "cell_type": "code",
   "execution_count": 141,
   "id": "3ffe6a6f",
   "metadata": {},
   "outputs": [
    {
     "data": {
      "text/plain": [
       "1492"
      ]
     },
     "execution_count": 141,
     "metadata": {},
     "output_type": "execute_result"
    }
   ],
   "source": [
    "on_time_deliveries = len(df[df['delivery_delay'] == 0])\n",
    "on_time_deliveries"
   ]
  },
  {
   "cell_type": "code",
   "execution_count": 142,
   "id": "8633f52e",
   "metadata": {
    "scrolled": true
   },
   "outputs": [
    {
     "name": "stdout",
     "output_type": "stream",
     "text": [
      "Percentage of late deliveries: 6.37%\n",
      "Percentage of early deliveries: 89.51%\n",
      "Percentage of on-time deliveries: 1.26%\n"
     ]
    }
   ],
   "source": [
    "late_p = (late_deliveries / 118018) * 100\n",
    "early_p = (early_deliveries / 118018) * 100\n",
    "on_time_p = (on_time_deliveries / 118018) * 100\n",
    "\n",
    "print(f\"Percentage of late deliveries: {late_p:.2f}%\")\n",
    "print(f\"Percentage of early deliveries: {early_p:.2f}%\")\n",
    "print(f\"Percentage of on-time deliveries: {on_time_p:.2f}%\")"
   ]
  },
  {
   "cell_type": "code",
   "execution_count": 143,
   "id": "ece79952",
   "metadata": {},
   "outputs": [
    {
     "data": {
      "image/png": "[encoded data removed]",
      "text/plain": [
       "<Figure size 640x480 with 1 Axes>"
      ]
     },
     "metadata": {},
     "output_type": "display_data"
    }
   ],
   "source": [
    "# Values for deliveries\n",
    "data = {'Late Deliveries': 7513, 'Early Deliveries': 105643, 'On-Time Deliveries': 1492}\n",
    "\n",
    "# Create a pandas Series\n",
    "x = pd.Series(data)\n",
    "\n",
    "# Create pie chart using the pandas plot function\n",
    "x.plot(kind=\"pie\", autopct=\"%0.1f%%\")\n",
    "\n",
    "# Equal aspect ratio ensures the pie is drawn as a circle.\n",
    "plt.axis('equal')  \n",
    "\n",
    "# Add a title\n",
    "plt.title('Delivery Performance')\n",
    "\n",
    "# Show the plot\n",
    "plt.show()\n"
   ]
  },
  {
   "cell_type": "markdown",
   "id": "249c2f85",
   "metadata": {},
   "source": [
    " "
   ]
  },
  {
   "cell_type": "markdown",
   "id": "5ea53e63",
   "metadata": {},
   "source": [
    " "
   ]
  },
  {
   "cell_type": "markdown",
   "id": "50c74c81",
   "metadata": {},
   "source": [
    " "
   ]
  },
  {
   "cell_type": "markdown",
   "id": "f9e529f9",
   "metadata": {},
   "source": [
    "### 3) Month VS Order counts"
   ]
  },
  {
   "cell_type": "code",
   "execution_count": 144,
   "id": "30007b96",
   "metadata": {},
   "outputs": [
    {
     "data": {
      "image/png": "[encoded data removed]",
      "text/plain": [
       "<Figure size 1200x600 with 1 Axes>"
      ]
     },
     "metadata": {},
     "output_type": "display_data"
    }
   ],
   "source": [
    "plt.figure(figsize=(12, 6))\n",
    "sns.lineplot(data=df, x='Month', y=df.groupby('Month')['order_id'].transform('count'))\n",
    "plt.title('Order Count per Month')\n",
    "plt.xlabel('Month')\n",
    "plt.ylabel('Order Count per Month')\n",
    "plt.xticks(rotation=45)\n",
    "plt.show()\n"
   ]
  },
  {
   "cell_type": "markdown",
   "id": "7bdcbc02",
   "metadata": {},
   "source": [
    " "
   ]
  },
  {
   "cell_type": "markdown",
   "id": "42214242",
   "metadata": {},
   "source": [
    "### 4) Order payment type VS Payment value"
   ]
  },
  {
   "cell_type": "code",
   "execution_count": 145,
   "id": "45ed3b51",
   "metadata": {},
   "outputs": [
    {
     "data": {
      "text/plain": [
       "<Figure size 1200x600 with 0 Axes>"
      ]
     },
     "metadata": {},
     "output_type": "display_data"
    },
    {
     "data": {
      "image/png": "[encoded data removed]",
      "text/plain": [
       "<Figure size 1200x600 with 1 Axes>"
      ]
     },
     "metadata": {},
     "output_type": "display_data"
    }
   ],
   "source": [
    "plt.figure(figsize=(12, 6))\n",
    "Q3 = df['payment_value'].quantile(0.75)\n",
    "df_filter = df[(df['payment_value'] <= Q3)]\n",
    "\n",
    "plt.figure(figsize=(12, 6))\n",
    "sns.boxplot(data=df_filter, x='order_payment_type', y='payment_value')\n",
    "plt.xticks(rotation=45)  \n",
    "plt.title('Payment Value by Order Payment Type')\n",
    "plt.show()\n"
   ]
  },
  {
   "cell_type": "code",
   "execution_count": 146,
   "id": "a20a8a1a",
   "metadata": {},
   "outputs": [
    {
     "data": {
      "image/png": "[encoded data removed]",
      "text/plain": [
       "<Figure size 1200x600 with 1 Axes>"
      ]
     },
     "metadata": {},
     "output_type": "display_data"
    }
   ],
   "source": [
    "plt.figure(figsize=(12, 6))\n",
    "sns.violinplot(data=df_filter, x='order_payment_type', y='payment_value')\n",
    "plt.xticks(rotation=45)  # Rotate x labels if needed\n",
    "plt.title('Payment Value Distribution by Order Payment Type')\n",
    "plt.show()\n"
   ]
  },
  {
   "cell_type": "markdown",
   "id": "d9099be2",
   "metadata": {},
   "source": [
    " "
   ]
  },
  {
   "cell_type": "markdown",
   "id": "b7de7278",
   "metadata": {},
   "source": [
    " "
   ]
  },
  {
   "cell_type": "markdown",
   "id": "d62dedd9",
   "metadata": {},
   "source": [
    "### 5) Top rated product category"
   ]
  },
  {
   "cell_type": "code",
   "execution_count": 147,
   "id": "749d7d50",
   "metadata": {},
   "outputs": [
    {
     "data": {
      "text/plain": [
       "Product_category name_english\n",
       "Music CDs and DVDs        4.642857\n",
       "Fashion Youth Clothing    4.500000\n",
       "Imported Books            4.419355\n",
       "General Interest Books    4.407080\n",
       "Technical Books           4.333333\n",
       "Name: review_score, dtype: float64"
      ]
     },
     "execution_count": 147,
     "metadata": {},
     "output_type": "execute_result"
    }
   ],
   "source": [
    "x = df.groupby(\"Product_category name_english\")[\"review_score\"].mean().sort_values(ascending=False).head(5)\n",
    "x"
   ]
  },
  {
   "cell_type": "markdown",
   "id": "225edaa9",
   "metadata": {},
   "source": [
    "### 6) Worst rated product category"
   ]
  },
  {
   "cell_type": "code",
   "execution_count": 148,
   "id": "fd7be251",
   "metadata": {},
   "outputs": [
    {
     "data": {
      "text/plain": [
       "Product_category name_english\n",
       "Insurance and Services                            2.500000\n",
       "Gaming PCs                                        3.100000\n",
       "missing                                           3.113033\n",
       "Diapers and Hygiene                               3.256410\n",
       "Portable Kitchen Appliances and Food Preparers    3.266667\n",
       "Name: review_score, dtype: float64"
      ]
     },
     "execution_count": 148,
     "metadata": {},
     "output_type": "execute_result"
    }
   ],
   "source": [
    "y = df.groupby(\"Product_category name_english\")[\"review_score\"].mean().sort_values(ascending=True).head(5)\n",
    "y"
   ]
  },
  {
   "cell_type": "markdown",
   "id": "3d43f6a1",
   "metadata": {},
   "source": [
    "### 7) Payment value by month"
   ]
  },
  {
   "cell_type": "code",
   "execution_count": 149,
   "id": "13a520a4",
   "metadata": {},
   "outputs": [
    {
     "data": {
      "image/png": "[encoded data removed]",
      "text/plain": [
       "<Figure size 1000x600 with 1 Axes>"
      ]
     },
     "metadata": {},
     "output_type": "display_data"
    }
   ],
   "source": [
    "# Group the data by the 'Month' column to sum payment values\n",
    "monthly_sales = df.groupby('Month')['payment_value'].sum().reset_index(name='Total Payment Value')\n",
    "\n",
    "# Ensure the 'Month' column is sorted in chronological order\n",
    "monthly_sales = monthly_sales.sort_values('Month')\n",
    "\n",
    "# Plotting the line chart\n",
    "plt.figure(figsize=(10, 6))\n",
    "sns.lineplot(data=monthly_sales, x='Month', y='Total Payment Value', marker='o')\n",
    "\n",
    "# Set x-axis labels and titles\n",
    "plt.xticks(ticks=range(1, 13), labels=['Jan', 'Feb', 'Mar', 'Apr', 'May', 'Jun', 'Jul', 'Aug', 'Sep', 'Oct', 'Nov', 'Dec'])\n",
    "plt.title('Total Payment Value by Month')\n",
    "plt.xlabel('Month')\n",
    "plt.ylabel('Total Payment Value')\n",
    "plt.grid(True)\n",
    "\n",
    "plt.show()\n"
   ]
  },
  {
   "cell_type": "markdown",
   "id": "88064fb1",
   "metadata": {},
   "source": [
    "### 8) Order count by day of week"
   ]
  },
  {
   "cell_type": "code",
   "execution_count": 150,
   "id": "3415dd11",
   "metadata": {},
   "outputs": [
    {
     "data": {
      "text/plain": [
       "Mon    19195\n",
       "Tue    19102\n",
       "Wed    18468\n",
       "Thu    17654\n",
       "Fri    16845\n",
       "Sun    13974\n",
       "Sat    12780\n",
       "Name: Day, dtype: int64"
      ]
     },
     "execution_count": 150,
     "metadata": {},
     "output_type": "execute_result"
    }
   ],
   "source": [
    "x_day= df[\"Day\"].value_counts().sort_values(ascending=False).head(10)\n",
    "x_day"
   ]
  },
  {
   "cell_type": "code",
   "execution_count": 151,
   "id": "a6f38eb2",
   "metadata": {},
   "outputs": [
    {
     "data": {
      "image/png": "[encoded data removed]",
      "text/plain": [
       "<Figure size 900x600 with 1 Axes>"
      ]
     },
     "metadata": {},
     "output_type": "display_data"
    }
   ],
   "source": [
    "plt.figure(figsize=(9, 6))\n",
    "sns.countplot(data=df, x='Day', order = df[\"Day\"].value_counts().index)\n",
    "plt.title('Order Count per Day of week')\n",
    "plt.xlabel('Day of week')\n",
    "plt.ylabel('Order Count')\n",
    "plt.show()"
   ]
  },
  {
   "cell_type": "markdown",
   "id": "466f771a",
   "metadata": {},
   "source": [
    "### 9) Overall order trend  "
   ]
  },
  {
   "cell_type": "code",
   "execution_count": 152,
   "id": "39015b68",
   "metadata": {},
   "outputs": [
    {
     "name": "stdout",
     "output_type": "stream",
     "text": [
      "0\n"
     ]
    },
    {
     "data": {
      "image/png": "[encoded data removed]",
      "text/plain": [
       "<Figure size 1200x600 with 1 Axes>"
      ]
     },
     "metadata": {},
     "output_type": "display_data"
    }
   ],
   "source": [
    "# Map month names to numbers\n",
    "month_mapping = {\n",
    "    'Jan': 1, 'Feb': 2, 'Mar': 3, 'Apr': 4, 'May': 5,\n",
    "    'Jun': 6, 'Jul': 7, 'Aug': 8, 'Sep': 9, 'Oct': 10,\n",
    "    'Nov': 11, 'Dec': 12\n",
    "}\n",
    "\n",
    "# Apply mapping to the 'Month' column\n",
    "df['Month'] = df['Month'].map(month_mapping)\n",
    "\n",
    "# Check if there are any missing values after mapping\n",
    "print(df['Month'].isna().sum())\n",
    "\n",
    "# Combine Year and Month into a single 'Date' column\n",
    "df['Date'] = pd.to_datetime(df[['Year', 'Month']].assign(day=1))\n",
    "\n",
    "# Group by 'Date' and count the number of orders\n",
    "monthly_orders = df.groupby('Date').size().reset_index(name='Order Count')\n",
    "\n",
    "# Sort by 'Date' to ensure chronological order\n",
    "monthly_orders = monthly_orders.sort_values('Date')\n",
    "\n",
    "# Plotting the line chart\n",
    "plt.figure(figsize=(12, 6))\n",
    "sns.lineplot(data=monthly_orders, x='Date', y='Order Count', marker='o')\n",
    "\n",
    "# Set x-axis labels and titles\n",
    "plt.title('Order Count Trend Per Month')\n",
    "plt.xlabel('Date')\n",
    "plt.ylabel('Order Count')\n",
    "plt.grid(True)\n",
    "plt.xticks(rotation=45)  # Rotate x-axis labels for better readability\n",
    "\n",
    "# Save the chart as an image file (optional)\n",
    "plt.savefig('order_count_trend.png', bbox_inches='tight')\n",
    "\n",
    "# Show the plot\n",
    "plt.show()\n"
   ]
  },
  {
   "cell_type": "markdown",
   "id": "9e716e81",
   "metadata": {},
   "source": [
    "### 10) Top 5 customer states by average delivery days"
   ]
  },
  {
   "cell_type": "code",
   "execution_count": 153,
   "id": "cfee02e6",
   "metadata": {},
   "outputs": [
    {
     "data": {
      "image/png": "[encoded data removed]",
      "text/plain": [
       "<Figure size 600x400 with 1 Axes>"
      ]
     },
     "metadata": {},
     "output_type": "display_data"
    },
    {
     "name": "stdout",
     "output_type": "stream",
     "text": [
      "   customer_state  actual_delivery_time\n",
      "21             RR             27.826087\n",
      "3              AP             27.662651\n",
      "2              AM             26.100592\n",
      "1              AL             24.119910\n",
      "13             PA             23.253444\n"
     ]
    }
   ],
   "source": [
    "df['actual_delivery_time'] = (df['order_delivered_customer_date'] - df['order_purchase_date']).dt.days\n",
    "\n",
    "state_delivery_time = df.groupby('customer_state')['actual_delivery_time'].mean().reset_index()\n",
    "\n",
    "state_delivery_time = state_delivery_time.sort_values(by='actual_delivery_time', ascending=False)\n",
    "\n",
    "top_5_states = state_delivery_time.head(5)\n",
    "\n",
    "plt.figure(figsize=(6,4))\n",
    "plt.bar(top_5_states['customer_state'], top_5_states['actual_delivery_time'], color='salmon')\n",
    "plt.title('Top 5 Customer States by Average Delivery Time')\n",
    "plt.xlabel('Customer State')\n",
    "plt.ylabel('Average Delivery Time (days)')\n",
    "plt.xticks(rotation=45)\n",
    "plt.savefig('Top 5 Customer States by Average Delivery Time.png', format='png', dpi=300, bbox_inches='tight')\n",
    "plt.show()\n",
    "\n",
    "print(top_5_states)\n"
   ]
  },
  {
   "cell_type": "code",
   "execution_count": 154,
   "id": "9395a3d4",
   "metadata": {},
   "outputs": [
    {
     "data": {
      "text/plain": [
       "12.027885353429628"
      ]
     },
     "execution_count": 154,
     "metadata": {},
     "output_type": "execute_result"
    }
   ],
   "source": [
    "(df['order_delivered_customer_date'] - df['order_purchase_date']).dt.days.mean()"
   ]
  },
  {
   "cell_type": "markdown",
   "id": "cf17e41b",
   "metadata": {},
   "source": [
    "### 11) Top 5 seller states by average delivery days"
   ]
  },
  {
   "cell_type": "code",
   "execution_count": 155,
   "id": "bcf7f672",
   "metadata": {},
   "outputs": [
    {
     "data": {
      "image/png": "[encoded data removed]",
      "text/plain": [
       "<Figure size 600x400 with 1 Axes>"
      ]
     },
     "metadata": {},
     "output_type": "display_data"
    },
    {
     "name": "stdout",
     "output_type": "stream",
     "text": [
      "   seller_state  actual_delivery_time\n",
      "1            AM             47.333333\n",
      "3            CE             17.389474\n",
      "7            MA             17.288177\n",
      "18           RO             16.928571\n",
      "10           MT             14.232877\n"
     ]
    }
   ],
   "source": [
    "df['actual_delivery_time'] = (df['order_delivered_customer_date'] - df['order_purchase_date']).dt.days\n",
    "\n",
    "state_delivery_time = df.groupby('seller_state')['actual_delivery_time'].mean().reset_index()\n",
    "\n",
    "state_delivery_time = state_delivery_time.sort_values(by='actual_delivery_time', ascending=False)\n",
    "\n",
    "top_5_states = state_delivery_time.head(5)\n",
    "\n",
    "plt.figure(figsize=(6,4))\n",
    "plt.bar(top_5_states['seller_state'], top_5_states['actual_delivery_time'], color='salmon')\n",
    "plt.title('Top 5 seller States by Average Delivery Time')\n",
    "plt.xlabel('seller State')\n",
    "plt.ylabel('Average Delivery Time (days)')\n",
    "plt.xticks(rotation=45)\n",
    "plt.savefig('Top 5 seller States by Average Delivery Time.png', format='png', dpi=300, bbox_inches='tight')\n",
    "plt.show()\n",
    "\n",
    "print(top_5_states)"
   ]
  },
  {
   "cell_type": "code",
   "execution_count": 156,
   "id": "b065214f",
   "metadata": {},
   "outputs": [
    {
     "data": {
      "text/plain": [
       "customer_city\n",
       "sao paulo         18648\n",
       "rio de janeiro     8235\n",
       "belo horizonte     3277\n",
       "brasilia           2482\n",
       "curitiba           1817\n",
       "dtype: int64"
      ]
     },
     "execution_count": 156,
     "metadata": {},
     "output_type": "execute_result"
    }
   ],
   "source": [
    "# Get total order counts by city\n",
    "city_order_counts = df.groupby('customer_city').size().nlargest(5)\n",
    "city_order_counts"
   ]
  },
  {
   "cell_type": "markdown",
   "id": "a3a6f2bf",
   "metadata": {},
   "source": [
    "### 12) top ordered product category for top city by order counts"
   ]
  },
  {
   "cell_type": "code",
   "execution_count": 157,
   "id": "44ea9980",
   "metadata": {},
   "outputs": [
    {
     "data": {
      "text/html": [
       "<div>\n",
       "<style scoped>\n",
       "    .dataframe tbody tr th:only-of-type {\n",
       "        vertical-align: middle;\n",
       "    }\n",
       "\n",
       "    .dataframe tbody tr th {\n",
       "        vertical-align: top;\n",
       "    }\n",
       "\n",
       "    .dataframe thead th {\n",
       "        text-align: right;\n",
       "    }\n",
       "</style>\n",
       "<table border=\"1\" class=\"dataframe\">\n",
       "  <thead>\n",
       "    <tr style=\"text-align: right;\">\n",
       "      <th></th>\n",
       "      <th>customer_city</th>\n",
       "      <th>Product_category name_english</th>\n",
       "      <th>counts</th>\n",
       "    </tr>\n",
       "  </thead>\n",
       "  <tbody>\n",
       "    <tr>\n",
       "      <th>2694</th>\n",
       "      <td>belo horizonte</td>\n",
       "      <td>Bedding, Tableware, and Bath</td>\n",
       "      <td>356</td>\n",
       "    </tr>\n",
       "    <tr>\n",
       "      <th>3382</th>\n",
       "      <td>brasilia</td>\n",
       "      <td>Beauty and Health</td>\n",
       "      <td>252</td>\n",
       "    </tr>\n",
       "    <tr>\n",
       "      <th>7071</th>\n",
       "      <td>curitiba</td>\n",
       "      <td>Decorative Furniture</td>\n",
       "      <td>156</td>\n",
       "    </tr>\n",
       "    <tr>\n",
       "      <th>19626</th>\n",
       "      <td>rio de janeiro</td>\n",
       "      <td>Bedding, Tableware, and Bath</td>\n",
       "      <td>895</td>\n",
       "    </tr>\n",
       "    <tr>\n",
       "      <th>22454</th>\n",
       "      <td>sao paulo</td>\n",
       "      <td>Bedding, Tableware, and Bath</td>\n",
       "      <td>2078</td>\n",
       "    </tr>\n",
       "  </tbody>\n",
       "</table>\n",
       "</div>"
      ],
      "text/plain": [
       "        customer_city Product_category name_english  counts\n",
       "2694   belo horizonte  Bedding, Tableware, and Bath     356\n",
       "3382         brasilia             Beauty and Health     252\n",
       "7071         curitiba          Decorative Furniture     156\n",
       "19626  rio de janeiro  Bedding, Tableware, and Bath     895\n",
       "22454       sao paulo  Bedding, Tableware, and Bath    2078"
      ]
     },
     "execution_count": 157,
     "metadata": {},
     "output_type": "execute_result"
    }
   ],
   "source": [
    "# Get top ordered product category for each city\n",
    "top_categories = df.groupby(['customer_city', 'Product_category name_english']).size().reset_index(name='counts')\n",
    "\n",
    "# Filter for top 5 cities and get the top category for each\n",
    "top_cities_categories = top_categories[top_categories['customer_city'].isin(city_order_counts.index)]\n",
    "top_product_categories = top_cities_categories.loc[top_cities_categories.groupby('customer_city')['counts'].idxmax()]\n",
    "\n",
    "# Display the result\n",
    "(top_product_categories[['customer_city', 'Product_category name_english', 'counts']])"
   ]
  },
  {
   "cell_type": "markdown",
   "id": "493a7bb2",
   "metadata": {},
   "source": [
    "### 13)Peak order counts Month of top 10 product category by order counts"
   ]
  },
  {
   "cell_type": "code",
   "execution_count": 158,
   "id": "70500ce0",
   "metadata": {},
   "outputs": [
    {
     "name": "stdout",
     "output_type": "stream",
     "text": [
      "  Product_category name_english  top_month  bottom_month\n",
      "0                    Automotive          8             9\n",
      "1             Beauty and Health          8             9\n",
      "2  Bedding, Tableware, and Bath          7             9\n",
      "3          Computer Accessories          2             9\n",
      "4          Decorative Furniture          3             9\n",
      "5           Household Utilities          6             9\n",
      "6            Sports and Leisure          3             9\n",
      "7                     Telephony          3             9\n",
      "8                          Toys         11             1\n",
      "9             Watches and Gifts          5             9\n"
     ]
    }
   ],
   "source": [
    "# Convert 'Month' column to integer if it's not already\n",
    "df['Month'] = df['Month'].astype(int)\n",
    "\n",
    "# Get the top 10 product categories by total order counts\n",
    "top_10_categories = df['Product_category name_english'].value_counts().nlargest(10).index\n",
    "\n",
    "# Filter data for only the top 10 product categories\n",
    "filtered_df = df[df['Product_category name_english'].isin(top_10_categories)]\n",
    "\n",
    "# Count orders by month and product category\n",
    "monthly_counts = filtered_df.groupby(['Product_category name_english', 'Month']).size().reset_index(name='counts')\n",
    "\n",
    "# Find the top and bottom months for each product category\n",
    "top_bottom = monthly_counts.groupby('Product_category name_english').apply(\n",
    "    lambda x: pd.Series({\n",
    "        'top_month': x.loc[x['counts'].idxmax(), 'Month'],\n",
    "        'bottom_month': x.loc[x['counts'].idxmin(), 'Month']\n",
    "    })\n",
    ").reset_index()\n",
    "\n",
    "# Display the result\n",
    "print(top_bottom)\n",
    "\n"
   ]
  },
  {
   "cell_type": "markdown",
   "id": "73778f4c",
   "metadata": {},
   "source": [
    "### Description"
   ]
  },
  {
   "cell_type": "code",
   "execution_count": 159,
   "id": "fadf8c3a",
   "metadata": {},
   "outputs": [],
   "source": [
    "#df.to_excel(\"clean_olist_datset.xlsx\", index=False)"
   ]
  },
  {
   "cell_type": "markdown",
   "id": "073226c0",
   "metadata": {},
   "source": [
    "**created:** The customer has placed the order.\n",
    "\n",
    "**approved:** Payment has been confirmed, and the order is approved for further action.\n",
    "\n",
    "**processing:** The order is being prepared for shipment. This may include inventory picking, packing, or other logistical steps.\n",
    "\n",
    "**invoiced**: An invoice has been generated, and the order is ready to be shipped.\n",
    "\n",
    "**shipped:** The order has been dispatched to the customer.\n",
    "\n",
    "**delivered:** The order has been delivered to the customer.\n",
    "\n",
    "**canceled:** The order has been canceled.\n",
    "\n",
    "**unavailable:** The product is not available, and the order cannot be fulfilled."
   ]
  },
  {
   "cell_type": "markdown",
   "id": "04e7885c",
   "metadata": {},
   "source": [
    "**customer_id:** \n",
    "- The \"customer_id\" is unique for each customer within a particular order but not necessarily across multiple orders.\n",
    "- Scenario: If a customer places multiple orders, they might have multiple customer_ids, one for each order.\n",
    "- **it represents customer associated with an order** \n",
    "\n",
    "**customer_unique_id:** \n",
    "- The customer_unique_id is unique represents a single customer, regardless of how many orders they have placed.\n",
    "- This means that even if a customer places multiple orders over several months or years, \"their customer_unique_id\" will be the same in all those orders.\n",
    "- **Represents the number of unique customers**\n",
    "\n",
    "**order_id:**\n",
    "- Each order_id is unique across the entire dataset and represents a single\n",
    "- If a customer orders multiple products at once, all items in that transaction will share the same order_id.\n",
    "- **Represents the number of unique orders.**\n",
    "\n",
    "**order_item_id:**\n",
    "- A unique identifier for each item in an order\n",
    "- each item in a particular order has a unique order_item_id. However, the same order_item_id could be reused across different orders.\n",
    "- If a customer orders multiple items from the same seller or in the same order, each item will have a different order_item_id but share the same order_id.\n",
    "- **It represents specific item from an order**\n",
    "\n",
    "**product_id:**\n",
    "- A unique id assigned to each product listed on the platform.\n",
    "- If a particular product is listed multiple times (by different customers or in different orders), the product_id for that product remains the same\n",
    "- **It represents specific product**\n",
    "\n",
    "**seller_id:**\n",
    "- A unique id assigned to each seller listed on the platform\n",
    "- If two different customers buy product from same seller, then seller id of both product will be same\n",
    "- **It represents specific seller**"
   ]
  },
  {
   "cell_type": "markdown",
   "id": "57d0c939",
   "metadata": {},
   "source": [
    "### Github project link"
   ]
  },
  {
   "cell_type": "markdown",
   "id": "8872138d",
   "metadata": {},
   "source": [
    " https://github.com/AniketAshokPawar/Olist---ecommerce-dataset-analysis.git"
   ]
  },
  {
   "cell_type": "code",
   "execution_count": null,
   "id": "461e46b6",
   "metadata": {},
   "outputs": [],
   "source": []
  }
 ],
 "metadata": {
  "kernelspec": {
   "display_name": "Python 3 (ipykernel)",
   "language": "python",
   "name": "python3"
  },
  "language_info": {
   "codemirror_mode": {
    "name": "ipython",
    "version": 3
   },
   "file_extension": ".py",
   "mimetype": "text/x-python",
   "name": "python",
   "nbconvert_exporter": "python",
   "pygments_lexer": "ipython3",
   "version": "3.10.6"
  }
 },
 "nbformat": 4,
 "nbformat_minor": 5
}
